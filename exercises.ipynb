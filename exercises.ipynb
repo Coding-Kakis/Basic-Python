{
 "cells": [
  {
   "cell_type": "markdown",
   "metadata": {},
   "source": [
    "## Summing 2 Numbers"
   ]
  },
  {
   "cell_type": "code",
   "execution_count": 1,
   "metadata": {},
   "outputs": [
    {
     "name": "stdout",
     "output_type": "stream",
     "text": [
      "Add: 30\n",
      "Sub: -10\n",
      "Mul: 200\n",
      "Div: 0.5\n"
     ]
    }
   ],
   "source": [
    "# Define the two numbers\n",
    "n1 = 10\n",
    "n2 = 20\n",
    "\n",
    "# Compute the addition\n",
    "add = n1+n2\n",
    "\n",
    "# Compute the subtraction\n",
    "sub = n1-n2\n",
    "\n",
    "# Compute the multiply\n",
    "mul = n1*n2\n",
    "\n",
    "# Compute the division\n",
    "div = n1/n2\n",
    "\n",
    "# Print the results\n",
    "print(\"Add:\", add)\n",
    "print(\"Sub:\", sub)\n",
    "print(\"Mul:\", mul)\n",
    "print(\"Div:\", div)"
   ]
  },
  {
   "cell_type": "markdown",
   "metadata": {},
   "source": [
    "## Combine Two Strings"
   ]
  },
  {
   "cell_type": "code",
   "execution_count": 2,
   "metadata": {},
   "outputs": [
    {
     "name": "stdout",
     "output_type": "stream",
     "text": [
      "Combined string: HelloWorld\n"
     ]
    }
   ],
   "source": [
    "# Define the strings\n",
    "str1 = \"Hello\"\n",
    "str2 = \"World\"\n",
    "\n",
    "# Combine the strings together\n",
    "combined_str = str1 + str2\n",
    "\n",
    "# Print result\n",
    "print(\"Combined string:\", combined_str)"
   ]
  },
  {
   "cell_type": "markdown",
   "metadata": {},
   "source": [
    "### Bonus"
   ]
  },
  {
   "cell_type": "code",
   "execution_count": 3,
   "metadata": {},
   "outputs": [
    {
     "name": "stdout",
     "output_type": "stream",
     "text": [
      "Combined string: Hello World\n"
     ]
    }
   ],
   "source": [
    "# Define the strings\n",
    "str1 = \"Hello\"\n",
    "str2 = \"World\"\n",
    "\n",
    "# Combine the strings with a space in between\n",
    "combined_str = str1 + \" \" + str2\n",
    "\n",
    "# Print result\n",
    "print(\"Combined string:\", combined_str)"
   ]
  },
  {
   "cell_type": "markdown",
   "metadata": {},
   "source": [
    "## Small Big Result\n"
   ]
  },
  {
   "cell_type": "code",
   "execution_count": 4,
   "metadata": {},
   "outputs": [
    {
     "name": "stdout",
     "output_type": "stream",
     "text": [
      "30\n"
     ]
    }
   ],
   "source": [
    "# Define the two numbers\n",
    "n1 = 10\n",
    "n2 = 20\n",
    "\n",
    "# Compute the addition\n",
    "add = n1+n2\n",
    "\n",
    "# Check if addition within range\n",
    "if add < 50 or add >= 100:\n",
    "    print(add)\n",
    "else:\n",
    "    print(\"Out of range\")"
   ]
  },
  {
   "cell_type": "markdown",
   "metadata": {},
   "source": [
    "### Bonus"
   ]
  },
  {
   "cell_type": "code",
   "execution_count": 5,
   "metadata": {},
   "outputs": [
    {
     "name": "stdout",
     "output_type": "stream",
     "text": [
      "Result: 30\n",
      "Comment: Even Number\n"
     ]
    }
   ],
   "source": [
    "# Define the two numbers\n",
    "n1 = 10\n",
    "n2 = 20\n",
    "\n",
    "# Compute the addition\n",
    "add = n1+n2\n",
    "\n",
    "# Compute comment\n",
    "if add % 2 == 0:\n",
    "    comment = \"Even Number\"\n",
    "else:\n",
    "    comment = \"Odd Number\"\n",
    "\n",
    "# Print result\n",
    "print(\"Result:\", add)\n",
    "\n",
    "# Print comment\n",
    "print(\"Comment:\", comment)"
   ]
  },
  {
   "cell_type": "markdown",
   "metadata": {},
   "source": [
    "## Combine Multiple Strings"
   ]
  },
  {
   "cell_type": "code",
   "execution_count": 6,
   "metadata": {},
   "outputs": [
    {
     "name": "stdout",
     "output_type": "stream",
     "text": [
      "HelloWorldPython\n"
     ]
    }
   ],
   "source": [
    "# Define list of strings\n",
    "strings = [\"Hello\", \"World\", \"Python\"]\n",
    "\n",
    "# Combine strings together\n",
    "combined_str = \"\"\n",
    "for s in strings:\n",
    "    combined_str += s\n",
    "    \n",
    "# Print result\n",
    "print(combined_str)"
   ]
  },
  {
   "cell_type": "markdown",
   "metadata": {},
   "source": [
    "### Bonus"
   ]
  },
  {
   "cell_type": "code",
   "execution_count": 7,
   "metadata": {},
   "outputs": [
    {
     "name": "stdout",
     "output_type": "stream",
     "text": [
      "Hell oWor ldPy thon \n"
     ]
    }
   ],
   "source": [
    "# Define list of strings\n",
    "strings = [\"Hello\", \"World\", \"Python\"]\n",
    "\n",
    "# Combine strings together into one string\n",
    "combined_str = \"\"\n",
    "for s in strings:\n",
    "    combined_str += s\n",
    "    \n",
    "# ########################################## #\n",
    "# Split combined string into list of 4 chars #\n",
    "# ########################################## #\n",
    "\n",
    "# idx is the current index into the string\n",
    "idx = 0\n",
    "# four_list will store the list of 4 chars\n",
    "four_list = []\n",
    "\n",
    "# Iterate while idx is smaller than length\n",
    "# of combined_str\n",
    "while idx < len(combined_str):\n",
    "    \n",
    "    # Get 4 chars\n",
    "    substr = combined_str[idx:idx+4]\n",
    "    # Add it to four_list\n",
    "    four_list.append(substr)\n",
    "    # Increment our pointer\n",
    "    idx += 4\n",
    "    \n",
    "# Combine `four_list` into one string\n",
    "final_str = \"\"\n",
    "for s in four_list:\n",
    "    final_str += s + \" \"\n",
    "    \n",
    "# Print result\n",
    "print(final_str)"
   ]
  },
  {
   "cell_type": "code",
   "execution_count": 8,
   "metadata": {},
   "outputs": [
    {
     "name": "stdout",
     "output_type": "stream",
     "text": [
      "Hell oWor ldPy thon \n"
     ]
    }
   ],
   "source": [
    "# Alternate solution with \n",
    "# tricks you can find online\n",
    "\n",
    "strings = [\"Hello\", \"World\", \"Python\"]\n",
    "s = \"\".join(strings)\n",
    "s = \" \".join(s[i*4:i*4+4] for i in range(len(s)//4+1))\n",
    "print(s)"
   ]
  },
  {
   "cell_type": "markdown",
   "metadata": {},
   "source": [
    "## Random Number Manipulation"
   ]
  },
  {
   "cell_type": "code",
   "execution_count": 27,
   "metadata": {},
   "outputs": [
    {
     "name": "stdout",
     "output_type": "stream",
     "text": [
      "14\n"
     ]
    }
   ],
   "source": [
    "import random\n",
    "\n",
    "number_of_ints = 3 # Number of integers to generate\n",
    "\n",
    "result = 0 # Defining a variable to store the results in\n",
    "\n",
    "for i in range(number_of_ints):\n",
    "    result += random.randint(1, 10)\n",
    "    \n",
    "print(result)"
   ]
  },
  {
   "cell_type": "markdown",
   "metadata": {},
   "source": [
    "## Challenges"
   ]
  },
  {
   "cell_type": "markdown",
   "metadata": {},
   "source": [
    "### Christmas Tree Sample Code"
   ]
  },
  {
   "cell_type": "code",
   "execution_count": 9,
   "metadata": {},
   "outputs": [
    {
     "name": "stdout",
     "output_type": "stream",
     "text": [
      "               #\n",
      "              ###\n",
      "             #####\n",
      "            #######\n",
      "           #########\n",
      "          ###########\n",
      "         #############\n",
      "        ###############\n",
      "       #################\n",
      "      ###################\n",
      "     #####################\n",
      "    #######################\n",
      "   #########################\n",
      "  ###########################\n",
      " #############################\n",
      "               N\n"
     ]
    }
   ],
   "source": [
    "# Specify height of tree\n",
    "n = 15\n",
    "\n",
    "# List to store the characters of each line\n",
    "lines = []\n",
    "\n",
    "# For each line, add the correct number of `#`\n",
    "# At the end of this chunk,\n",
    "# lines = [\n",
    "#   \"#\",\n",
    "#   \"###\",\n",
    "#   \"#####\",\n",
    "#    ...\n",
    "# ]\n",
    "for i in range(n):\n",
    "    lines.append(\"#\"*(1+2*i))\n",
    "    \n",
    "# Now we pad the left side of each line\n",
    "# so that the `#`s are aligned at the center\n",
    "# At the end of this chunk,\n",
    "# lines = [\n",
    "#   \"               #\", \n",
    "#   \"              ###\", \n",
    "#   \"             #####\", \n",
    "#   \"            #######\",\n",
    "#   ...\n",
    "# ]\n",
    "for i in range(n):\n",
    "    lines[i] = \" \"*(n-i) + lines[i]\n",
    "    \n",
    "# Add the little trunk at the\n",
    "# bottom of the tree\n",
    "lines.append(\" \"*n + \"N\")\n",
    "\n",
    "# Print the tree, line by line.\n",
    "for i in lines:\n",
    "    print(i)"
   ]
  },
  {
   "cell_type": "markdown",
   "metadata": {},
   "source": [
    "### Possible Modifications"
   ]
  },
  {
   "cell_type": "code",
   "execution_count": 10,
   "metadata": {},
   "outputs": [
    {
     "name": "stdout",
     "output_type": "stream",
     "text": [
      "          ++\n",
      "          /\\\n",
      "         //@\\\n",
      "        /@/\\\\@\n",
      "       @@/@\\@@\\\n",
      "      @//@/\\\\\\@@\n",
      "     @@//@@\\\\@\\\\\\\n",
      "    ///@/@/\\\\@@@\\@\n",
      "   /@//@//@\\\\\\\\\\@@\\\n",
      "  @@@//@/@/\\@\\@\\@\\\\\\\n",
      " ///////@@@@@\\\\\\\\\\\\@\\\n",
      "          ||\n"
     ]
    }
   ],
   "source": [
    "# Import python's random module\n",
    "# so we can generate random numbers.\n",
    "# Our tree will look different each time\n",
    "import random\n",
    "\n",
    "# Specify height of tree\n",
    "n = 10\n",
    "\n",
    "# Specify the maximum number of bells we want\n",
    "# on the tree\n",
    "nbells = 50\n",
    "\n",
    "# List to store the characters of each line\n",
    "lines = [\"\"]*n\n",
    "\n",
    "# Add the correct number of `/` for each line\n",
    "# These will represent the left side leaves of the tree\n",
    "# At the end of this chunk, \n",
    "# lines = [\n",
    "#     '',\n",
    "#     '/',        \n",
    "#     '//',       \n",
    "#     '///',      \n",
    "#     ...\n",
    "# ]\n",
    "for i in range(n):\n",
    "    lines[i] += \"/\"*i\n",
    "    \n",
    "# Now we add `/\\` to each line to represent the center\n",
    "# of the tree\n",
    "# At the end of this chunk,\n",
    "# lines = [\n",
    "#     '/\\\\',\n",
    "#     '//\\\\',       \n",
    "#     '///\\\\',\n",
    "#     ...\n",
    "# ]\n",
    "for i in range(n):\n",
    "    # We have to use `\\\\` instead of `\\` to represent\n",
    "    # the character \"\\\" because \"\\\" is a special character\n",
    "    # that needs to be escaped.\n",
    "    lines[i] += \"/\\\\\"\n",
    "    \n",
    "# Now we add the correct number of `\\` for each line\n",
    "# These will be the right side leaves of the tree.\n",
    "# At the end of this chunk,\n",
    "# lines = [\n",
    "#    '/\\',\n",
    "#    '//\\\\',\n",
    "#    '///\\\\\\',\n",
    "#    ...\n",
    "# ]\n",
    "for i in range(n):\n",
    "    lines[i] += \"\\\\\"*i\n",
    "    \n",
    "# Now we pad the left side of each line\n",
    "# so that the leaves are aligned at the center\n",
    "# At the end of this chunk,\n",
    "# lines = [\n",
    "#     '          /\\',    \n",
    "#     '         //\\\\',   \n",
    "#     '        ///\\\\\\',\n",
    "#     ...\n",
    "# ]\n",
    "for i in range(n):\n",
    "    lines[i] = \" \"*(n-i) + lines[i]\n",
    "\n",
    "# Add the little trunk at the\n",
    "# bottom of the tree\n",
    "lines.append(\" \"*n + \"||\")\n",
    "\n",
    "###\n",
    "# Now we add the bells.\n",
    "# We do so by randomly choosing a leaf\n",
    "# on the tree and replacing it with a `@`\n",
    "# character\n",
    "###\n",
    "\n",
    "# We first convert the strings in `lines`\n",
    "# into `list`s. This is so we can change a single \n",
    "# character. We aren't allowed to do that for \n",
    "# `str`s.\n",
    "for i in range(n):\n",
    "    lines[i] = list(lines[i])\n",
    "\n",
    "# Now we add the bells\n",
    "for i in range(nbells):\n",
    "    # Choose a random leaf layer `y`\n",
    "    # This is a number between 1 to n-1\n",
    "    y  = random.randint(1,n-1)\n",
    "    # Choose a random leaf row `x`\n",
    "    # This is a number between n-y to n+y+1\n",
    "    x = random.randint(n-y,n+y+1)\n",
    "    # Replace the character at line y, row x\n",
    "    # to be `@`.\n",
    "    lines[y][x] = \"@\"\n",
    "\n",
    "# Convert the lists back into strings\n",
    "for i in range(n):\n",
    "    lines[i] = \"\".join(lines[i])\n",
    "\n",
    "# Add a little star at the top of the tree `++`\n",
    "lines = [\" \"*n + \"++\"] + lines\n",
    "    \n",
    "# Print the tree, line by line\n",
    "for i in lines:\n",
    "    print(i)"
   ]
  },
  {
   "cell_type": "markdown",
   "metadata": {},
   "source": [
    "### Compact Version"
   ]
  },
  {
   "cell_type": "code",
   "execution_count": 1,
   "metadata": {},
   "outputs": [
    {
     "name": "stdout",
     "output_type": "stream",
     "text": [
      "          ++\n",
      "          /\\\n",
      "         /@@@\n",
      "        //@\\@\\\n",
      "       //@@\\@@\\\n",
      "      /@///\\\\@@@\n",
      "     @/@/@/\\\\\\@@\\\n",
      "    @/@/@//\\\\@\\\\@@\n",
      "   @////@//@\\@\\\\\\\\@\n",
      "  /////@//@\\\\\\\\\\@\\\\\\\n",
      " //@/@/////@\\\\@\\\\\\\\\\\\\n",
      "          ||\n"
     ]
    }
   ],
   "source": [
    "import random\n",
    "\n",
    "# Height of tree\n",
    "n = 10\n",
    "# Max number of bells\n",
    "nbells = 50\n",
    "\n",
    "# Add leaves to tree\n",
    "lines = [\n",
    "    \" \"*(n-i) + \"/\"*i +\"/\\\\\" + \"\\\\\"*i\n",
    "    for i in range(n)\n",
    "]\n",
    "\n",
    "# Add trunk to tree\n",
    "lines.append(\" \"*n + \"||\")\n",
    "\n",
    "# Convert str to list\n",
    "lines = [*map(list, lines)]\n",
    "\n",
    "# Add the bells\n",
    "for i in range(nbells):\n",
    "    y = random.randint(1,n-1)\n",
    "    x = random.randint(n-y,n+y+1)\n",
    "    lines[y][x] = \"@\"\n",
    "\n",
    "# Convert lists back to str\n",
    "lines = [\"\".join(i) for i in lines]\n",
    "\n",
    "# Add a little star at the top of the tree `++`\n",
    "lines = [\" \"*n + \"++\"] + lines\n",
    "    \n",
    "# Print the tree\n",
    "print(\"\\n\".join(lines))"
   ]
  },
  {
   "cell_type": "markdown",
   "metadata": {},
   "source": [
    "## Fibonacci Sample Code"
   ]
  },
  {
   "cell_type": "code",
   "execution_count": 16,
   "metadata": {},
   "outputs": [
    {
     "name": "stdout",
     "output_type": "stream",
     "text": [
      "[1, 1, 2, 3, 5, 8, 13, 21, 34, 55]\n"
     ]
    }
   ],
   "source": [
    "# Number of terms to find\n",
    "n = 10\n",
    "\n",
    "# Fibonacci Function\n",
    "def fibonacci_fun(terms_num):\n",
    "\n",
    "    # List to store results in\n",
    "    fib_res = [1, 1]\n",
    "\n",
    "    # Do while we need more results\n",
    "    while len(fib_res) < terms_num:\n",
    "\n",
    "        # Compute new term\n",
    "        # New term is the sum of the previous two terms\n",
    "        new_term = fib_res[-1] + fib_res[-2]\n",
    "\n",
    "        # Add the new term to results\n",
    "        fib_res.append(new_term)\n",
    "\n",
    "    # Return `terms_num` number of results\n",
    "    return fib_res[:terms_num]\n",
    "\n",
    "# Print the first 10 terms of the fibonacci sequence\n",
    "print(fibonacci_fun(10))"
   ]
  },
  {
   "cell_type": "code",
   "execution_count": 28,
   "metadata": {},
   "outputs": [
    {
     "name": "stdout",
     "output_type": "stream",
     "text": [
      "144\n"
     ]
    }
   ],
   "source": [
    "# Finding first term larger than 100\n",
    "\n",
    "for term in fibonacci_fun(13):\n",
    "    if term > 100:\n",
    "        print(term)\n",
    "        break"
   ]
  },
  {
   "cell_type": "code",
   "execution_count": 32,
   "metadata": {},
   "outputs": [
    {
     "name": "stdout",
     "output_type": "stream",
     "text": [
      "17710\n"
     ]
    }
   ],
   "source": [
    "# Finding sum of first 20 terms\n",
    "\n",
    "fib_sum = 0\n",
    "for term in fibonacci_fun(20):\n",
    "    fib_sum += term\n",
    "print(fib_sum)"
   ]
  },
  {
   "cell_type": "code",
   "execution_count": 39,
   "metadata": {},
   "outputs": [
    {
     "name": "stdout",
     "output_type": "stream",
     "text": [
      "15004\n"
     ]
    }
   ],
   "source": [
    "# Finding largest factor for 25th term except for itself\n",
    "\n",
    "largest_factor = 1 # variable to store largest factor\n",
    "fib_term_25 = fibonacci_fun(25)[24] # the 25th \n",
    "\n",
    "for number in range(fib_term_25):\n",
    "    if fib_term_25 % (number + 1) == 0 and fib_term_25 != (number + 1):\n",
    "        largest_factor = number\n",
    "print(largest_factor)"
   ]
  }
 ],
 "metadata": {
  "kernelspec": {
   "display_name": "Python 3",
   "language": "python",
   "name": "python3"
  },
  "language_info": {
   "codemirror_mode": {
    "name": "ipython",
    "version": 3
   },
   "file_extension": ".py",
   "mimetype": "text/x-python",
   "name": "python",
   "nbconvert_exporter": "python",
   "pygments_lexer": "ipython3",
   "version": "3.7.4"
  }
 },
 "nbformat": 4,
 "nbformat_minor": 4
}
