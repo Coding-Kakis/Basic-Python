{
 "cells": [
  {
   "cell_type": "markdown",
   "metadata": {},
   "source": [
    "## Summing 2 Numbers"
   ]
  },
  {
   "cell_type": "code",
   "execution_count": 1,
   "metadata": {},
   "outputs": [
    {
     "name": "stdout",
     "output_type": "stream",
     "text": [
      "Add: 30\n",
      "Sub: -10\n",
      "Mul: 200\n",
      "Div: 0.5\n"
     ]
    }
   ],
   "source": [
    "# Define the two numbers\n",
    "n1 = 10\n",
    "n2 = 20\n",
    "\n",
    "# Compute the addition\n",
    "add = n1+n2\n",
    "\n",
    "# Compute the subtraction\n",
    "sub = n1-n2\n",
    "\n",
    "# Compute the multiply\n",
    "mul = n1*n2\n",
    "\n",
    "# Compute the division\n",
    "div = n1/n2\n",
    "\n",
    "# Print the results\n",
    "print(\"Add:\", add)\n",
    "print(\"Sub:\", sub)\n",
    "print(\"Mul:\", mul)\n",
    "print(\"Div:\", div)"
   ]
  },
  {
   "cell_type": "markdown",
   "metadata": {},
   "source": [
    "## Combine Two Strings"
   ]
  },
  {
   "cell_type": "code",
   "execution_count": 2,
   "metadata": {},
   "outputs": [
    {
     "name": "stdout",
     "output_type": "stream",
     "text": [
      "Combined string: HelloWorld\n"
     ]
    }
   ],
   "source": [
    "# Define the strings\n",
    "str1 = \"Hello\"\n",
    "str2 = \"World\"\n",
    "\n",
    "# Combine the strings together\n",
    "combined_str = str1 + str2\n",
    "\n",
    "# Print result\n",
    "print(\"Combined string:\", combined_str)"
   ]
  },
  {
   "cell_type": "markdown",
   "metadata": {},
   "source": [
    "### Bonus"
   ]
  },
  {
   "cell_type": "code",
   "execution_count": 3,
   "metadata": {},
   "outputs": [
    {
     "name": "stdout",
     "output_type": "stream",
     "text": [
      "Combined string: Hello World\n"
     ]
    }
   ],
   "source": [
    "# Define the strings\n",
    "str1 = \"Hello\"\n",
    "str2 = \"World\"\n",
    "\n",
    "# Combine the strings with a space in between\n",
    "combined_str = str1 + \" \" + str2\n",
    "\n",
    "# Print result\n",
    "print(\"Combined string:\", combined_str)"
   ]
  },
  {
   "cell_type": "markdown",
   "metadata": {},
   "source": [
    "## Small Big Result\n"
   ]
  },
  {
   "cell_type": "code",
   "execution_count": 7,
   "metadata": {},
   "outputs": [
    {
     "name": "stdout",
     "output_type": "stream",
     "text": [
      "Result: 30\n",
      "Comment: Small Number\n"
     ]
    }
   ],
   "source": [
    "# Define the two numbers\n",
    "n1 = 10\n",
    "n2 = 20\n",
    "\n",
    "# Compute the addition\n",
    "add = n1+n2\n",
    "\n",
    "# Compute comment\n",
    "comment = None\n",
    "if add > 100:\n",
    "    comment = \"Big Number\"\n",
    "if add < 50:\n",
    "    comment = \"Small Number\"\n",
    "\n",
    "# Print result\n",
    "print(\"Result:\", add)\n",
    "\n",
    "# Print comment\n",
    "if comment:\n",
    "    print(\"Comment:\", comment)"
   ]
  },
  {
   "cell_type": "markdown",
   "metadata": {},
   "source": [
    "### Bonus"
   ]
  },
  {
   "cell_type": "code",
   "execution_count": 8,
   "metadata": {},
   "outputs": [
    {
     "name": "stdout",
     "output_type": "stream",
     "text": [
      "Result: 30\n",
      "Comment: Even Number\n"
     ]
    }
   ],
   "source": [
    "# Define the two numbers\n",
    "n1 = 10\n",
    "n2 = 20\n",
    "\n",
    "# Compute the addition\n",
    "add = n1+n2\n",
    "\n",
    "# Compute comment\n",
    "if add % 2 == 0:\n",
    "    comment = \"Even Number\"\n",
    "else:\n",
    "    comment = \"Odd Number\"\n",
    "\n",
    "# Print result\n",
    "print(\"Result:\", add)\n",
    "\n",
    "# Print comment\n",
    "print(\"Comment:\", comment)"
   ]
  },
  {
   "cell_type": "markdown",
   "metadata": {},
   "source": [
    "## Combine Multiple Strings"
   ]
  },
  {
   "cell_type": "code",
   "execution_count": 9,
   "metadata": {},
   "outputs": [
    {
     "name": "stdout",
     "output_type": "stream",
     "text": [
      "HelloWorldPython\n"
     ]
    }
   ],
   "source": [
    "# Define list of strings\n",
    "strings = [\"Hello\", \"World\", \"Python\"]\n",
    "\n",
    "# Combine strings together\n",
    "combined_str = \"\"\n",
    "for s in strings:\n",
    "    combined_str += s\n",
    "    \n",
    "# Print result\n",
    "print(combined_str)"
   ]
  },
  {
   "cell_type": "markdown",
   "metadata": {},
   "source": [
    "### Bonus"
   ]
  },
  {
   "cell_type": "code",
   "execution_count": 11,
   "metadata": {},
   "outputs": [
    {
     "name": "stdout",
     "output_type": "stream",
     "text": [
      "Hell oWor ldPy thon \n"
     ]
    }
   ],
   "source": [
    "# Define list of strings\n",
    "strings = [\"Hello\", \"World\", \"Python\"]\n",
    "\n",
    "# Combine strings together into one string\n",
    "combined_str = \"\"\n",
    "for s in strings:\n",
    "    combined_str += s\n",
    "    \n",
    "# ########################################## #\n",
    "# Split combined string into list of 4 chars #\n",
    "# ########################################## #\n",
    "\n",
    "# idx is the current index into the string\n",
    "idx = 0\n",
    "# four_list will store the list of 4 chars\n",
    "four_list = []\n",
    "\n",
    "# Iterate while idx is smaller than length\n",
    "# of combined_str\n",
    "while idx < len(combined_str):\n",
    "    \n",
    "    # Get 4 chars\n",
    "    substr = combined_str[idx:idx+4]\n",
    "    # Add it to four_list\n",
    "    four_list.append(substr)\n",
    "    # Increment our pointer\n",
    "    idx += 4\n",
    "    \n",
    "# Combine `four_list` into one string\n",
    "final_str = \"\"\n",
    "for s in four_list:\n",
    "    final_str += s + \" \"\n",
    "    \n",
    "# Print result\n",
    "print(final_str)"
   ]
  },
  {
   "cell_type": "code",
   "execution_count": 12,
   "metadata": {},
   "outputs": [
    {
     "name": "stdout",
     "output_type": "stream",
     "text": [
      "Hell oWor ldPy thon \n"
     ]
    }
   ],
   "source": [
    "# Alternate solution with \n",
    "# tricks you can find online\n",
    "\n",
    "strings = [\"Hello\", \"World\", \"Python\"]\n",
    "s = \"\".join(strings)\n",
    "s = \" \".join(s[i*4:i*4+4] for i in range(len(s)//4+1))\n",
    "print(s)"
   ]
  },
  {
   "cell_type": "markdown",
   "metadata": {},
   "source": [
    "## Challenge"
   ]
  },
  {
   "cell_type": "markdown",
   "metadata": {},
   "source": [
    "### Sample Code"
   ]
  },
  {
   "cell_type": "code",
   "execution_count": 13,
   "metadata": {},
   "outputs": [
    {
     "name": "stdout",
     "output_type": "stream",
     "text": [
      "          #\n",
      "         ###\n",
      "        #####\n",
      "       #######\n",
      "      #########\n",
      "     ###########\n",
      "    #############\n",
      "   ###############\n",
      "  #################\n",
      " ###################\n",
      "          N\n"
     ]
    }
   ],
   "source": [
    "n = 10\n",
    "\n",
    "lines = []\n",
    "for i in range(n):\n",
    "    lines.append(\"#\"*(1+2*i))\n",
    "    \n",
    "for i in range(n):\n",
    "    lines[i] = \" \"*(n-i) + lines[i]\n",
    "    \n",
    "lines.append(\" \"*n + \"N\")\n",
    "\n",
    "for i in lines:\n",
    "    print(i)"
   ]
  },
  {
   "cell_type": "markdown",
   "metadata": {},
   "source": [
    "### Possible Modifications"
   ]
  },
  {
   "cell_type": "code",
   "execution_count": 14,
   "metadata": {},
   "outputs": [
    {
     "name": "stdout",
     "output_type": "stream",
     "text": [
      "          ++\n",
      "          /\\\n",
      "         o/\\\\\n",
      "        //oo\\\\\n",
      "       ////\\o\\\\\n",
      "      /////\\\\\\\\\\\n",
      "     //////\\\\\\\\\\\\\n",
      "    //////oo\\\\\\\\\\\\\n",
      "   ////////\\o\\\\o\\\\\\\n",
      "  /////o///\\\\\\\\\\\\\\\\\\\n",
      " //////////\\\\\\\\\\\\\\\\\\o\n",
      "          ||\n"
     ]
    }
   ],
   "source": [
    "import random\n",
    "\n",
    "n = 10\n",
    "nbells = 10\n",
    "\n",
    "lines = [\"\"]*n\n",
    "for i in range(n):\n",
    "    lines[i] += \"/\"*i\n",
    "    \n",
    "for i in range(n):\n",
    "    lines[i] += \"/\\\\\"\n",
    "    \n",
    "for i in range(n):\n",
    "    lines[i] += \"\\\\\"*i\n",
    "    \n",
    "for i in range(n):\n",
    "    lines[i] = \" \"*(n-i) + lines[i]\n",
    "    \n",
    "lines.append(\" \"*n + \"||\")\n",
    "\n",
    "for i in range(nbells):\n",
    "    idx  = random.randint(1,n-1)\n",
    "    idx2 = random.randint(0,2*idx+1) + (n-idx)\n",
    "    line = lines[idx]\n",
    "    line = list(line)\n",
    "    line[idx2] = \"o\"\n",
    "    lines[idx] = \"\".join(line)\n",
    "\n",
    "lines = [\" \"*n + \"++\"] + lines\n",
    "    \n",
    "for i in lines:\n",
    "    print(i)"
   ]
  }
 ],
 "metadata": {
  "kernelspec": {
   "display_name": "Python 3",
   "language": "python",
   "name": "python3"
  },
  "language_info": {
   "codemirror_mode": {
    "name": "ipython",
    "version": 3
   },
   "file_extension": ".py",
   "mimetype": "text/x-python",
   "name": "python",
   "nbconvert_exporter": "python",
   "pygments_lexer": "ipython3",
   "version": "3.7.7"
  }
 },
 "nbformat": 4,
 "nbformat_minor": 4
}
