{
 "cells": [
  {
   "cell_type": "markdown",
   "id": "19dce00f",
   "metadata": {},
   "source": [
    "## Loops"
   ]
  },
  {
   "cell_type": "code",
   "execution_count": 1,
   "id": "cd56ccab",
   "metadata": {},
   "outputs": [
    {
     "name": "stdout",
     "output_type": "stream",
     "text": [
      "1\n",
      "2\n"
     ]
    }
   ],
   "source": [
    "# while loops\n",
    "a = 1\n",
    "while(a < 3):\n",
    "    print(a)\n",
    "    a += 1"
   ]
  },
  {
   "cell_type": "code",
   "execution_count": 2,
   "id": "61a25caa",
   "metadata": {},
   "outputs": [
    {
     "name": "stdout",
     "output_type": "stream",
     "text": [
      "1\n",
      "2\n",
      "3\n"
     ]
    }
   ],
   "source": [
    "# for loops using lists\n",
    "arr = [1, 2, 3]\n",
    "for item in arr:\n",
    "    print(item)"
   ]
  },
  {
   "cell_type": "code",
   "execution_count": 3,
   "id": "a42a1f37",
   "metadata": {},
   "outputs": [
    {
     "name": "stdout",
     "output_type": "stream",
     "text": [
      "0\n",
      "1\n",
      "2\n"
     ]
    }
   ],
   "source": [
    "# for loops using range\n",
    "for i in range(3):\n",
    "    print(i)"
   ]
  },
  {
   "cell_type": "code",
   "execution_count": 4,
   "id": "a97d35fd",
   "metadata": {},
   "outputs": [
    {
     "name": "stdout",
     "output_type": "stream",
     "text": [
      "1\n"
     ]
    }
   ],
   "source": [
    "# using break to prematurely end a loop\n",
    "a = 1\n",
    "while(a < 3):\n",
    "    print(a)\n",
    "    break"
   ]
  },
  {
   "cell_type": "markdown",
   "id": "1443bfb3",
   "metadata": {},
   "source": [
    "## Random Module"
   ]
  },
  {
   "cell_type": "code",
   "execution_count": 5,
   "id": "d9843778",
   "metadata": {},
   "outputs": [
    {
     "name": "stdout",
     "output_type": "stream",
     "text": [
      "This is a: 3\n",
      "This is b: 2\n"
     ]
    }
   ],
   "source": [
    "import random\n",
    "\n",
    "a = random.randint(1, 10)\n",
    "b = random.randint(1, 10)\n",
    "print(\"This is a:\", a)\n",
    "print(\"This is b:\", b)"
   ]
  },
  {
   "cell_type": "code",
   "execution_count": null,
   "id": "fad1ce56",
   "metadata": {},
   "outputs": [],
   "source": []
  }
 ],
 "metadata": {
  "kernelspec": {
   "display_name": "Python 3 (ipykernel)",
   "language": "python",
   "name": "python3"
  },
  "language_info": {
   "codemirror_mode": {
    "name": "ipython",
    "version": 3
   },
   "file_extension": ".py",
   "mimetype": "text/x-python",
   "name": "python",
   "nbconvert_exporter": "python",
   "pygments_lexer": "ipython3",
   "version": "3.9.13"
  }
 },
 "nbformat": 4,
 "nbformat_minor": 5
}
