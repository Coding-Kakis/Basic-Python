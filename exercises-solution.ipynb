{
  "cells": [
    {
      "cell_type": "markdown",
      "metadata": {
        "id": "qr-lpSpsdfka"
      },
      "source": [
        "## Summing 2 Numbers"
      ]
    },
    {
      "cell_type": "code",
      "execution_count": 61,
      "metadata": {
        "id": "ZkIE1JAKdfkb",
        "outputId": "af8ef062-dc01-4cab-9ec8-c39e22938fe4",
        "colab": {
          "base_uri": "https://localhost:8080/"
        }
      },
      "outputs": [
        {
          "output_type": "stream",
          "name": "stdout",
          "text": [
            "Add: 30\n"
          ]
        }
      ],
      "source": [
        "# Define the two numbers\n",
        "n1 = 10\n",
        "n2 = 20\n",
        "\n",
        "# Compute the addition\n",
        "add = n1+n2\n",
        "\n",
        "# Print the results\n",
        "print(\"Add:\", add)\n"
      ]
    },
    {
      "cell_type": "markdown",
      "metadata": {
        "id": "AV3lLnpVdfkd"
      },
      "source": [
        "### Bonus"
      ]
    },
    {
      "cell_type": "code",
      "execution_count": 62,
      "metadata": {
        "id": "PfOEVoeRdfkd",
        "outputId": "fa6331fe-7773-4d02-b6bd-666e8efe8e7b",
        "colab": {
          "base_uri": "https://localhost:8080/"
        }
      },
      "outputs": [
        {
          "output_type": "stream",
          "name": "stdout",
          "text": [
            "Sub: -10\n",
            "Mul: 200\n",
            "Div: 0.5\n"
          ]
        }
      ],
      "source": [
        "# Define the two numbers\n",
        "n1 = 10\n",
        "n2 = 20\n",
        "\n",
        "# Compute the subtraction\n",
        "sub = n1-n2\n",
        "\n",
        "# Compute the multiplication\n",
        "mul = n1*n2\n",
        "\n",
        "# Compute the division\n",
        "div = n1/n2\n",
        "\n",
        "# Print the results\n",
        "print(\"Sub:\", sub)\n",
        "print(\"Mul:\", mul)\n",
        "print(\"Div:\", div)"
      ]
    },
    {
      "cell_type": "markdown",
      "metadata": {
        "id": "OuEggidvdfkd"
      },
      "source": [
        "## Combine Two Strings"
      ]
    },
    {
      "cell_type": "code",
      "execution_count": 63,
      "metadata": {
        "id": "YGqyHJpDdfke",
        "outputId": "0247567b-8036-4565-e34d-8b5e33400cce",
        "colab": {
          "base_uri": "https://localhost:8080/"
        }
      },
      "outputs": [
        {
          "output_type": "stream",
          "name": "stdout",
          "text": [
            "Combined string: HelloWorld\n"
          ]
        }
      ],
      "source": [
        "# Define the strings\n",
        "str1 = \"Hello\"\n",
        "str2 = \"World\"\n",
        "\n",
        "# Combine the strings together\n",
        "combined_str = str1 + str2\n",
        "\n",
        "# Print result\n",
        "print(\"Combined string:\", combined_str)"
      ]
    },
    {
      "cell_type": "markdown",
      "metadata": {
        "id": "KxsngqWLdfke"
      },
      "source": [
        "### Bonus"
      ]
    },
    {
      "cell_type": "code",
      "execution_count": 64,
      "metadata": {
        "id": "Gfvbq1aMdfke",
        "outputId": "3fe57279-488f-4db5-df79-334a4566cd66",
        "colab": {
          "base_uri": "https://localhost:8080/"
        }
      },
      "outputs": [
        {
          "output_type": "stream",
          "name": "stdout",
          "text": [
            "Combined string: Hello World\n"
          ]
        }
      ],
      "source": [
        "# Define the strings\n",
        "str1 = \"Hello\"\n",
        "str2 = \"World\"\n",
        "\n",
        "# Combine the strings with a space in between\n",
        "combined_str = str1 + \" \" + str2\n",
        "\n",
        "# Print result\n",
        "print(\"Combined string:\", combined_str)"
      ]
    },
    {
      "cell_type": "markdown",
      "metadata": {
        "id": "K6eirYq6dfke"
      },
      "source": [
        "## Small Big Result\n"
      ]
    },
    {
      "cell_type": "code",
      "execution_count": 65,
      "metadata": {
        "colab": {
          "base_uri": "https://localhost:8080/"
        },
        "id": "AEGTpOfddfke",
        "outputId": "74ea20d6-58dd-4001-912c-12930dc17622"
      },
      "outputs": [
        {
          "output_type": "execute_result",
          "data": {
            "text/plain": [
              "30"
            ]
          },
          "metadata": {},
          "execution_count": 65
        }
      ],
      "source": [
        "def small_big_result(n1: int, n2: int):\n",
        "  # Compute the addition\n",
        "  result = n1+n2\n",
        "\n",
        "  # Check if addition within range\n",
        "  if result < 50 or result >= 100:\n",
        "     # Returns the result\n",
        "    return result\n",
        "  else:\n",
        "    # Return \"Out of range\"\n",
        "    return \"Out of range\"\n",
        " \n",
        "small_big_result(10, 20)"
      ]
    },
    {
      "cell_type": "code",
      "source": [
        "#@title Tests for small_big_result\n",
        "# Expected outputs:\n",
        "if small_big_result(10, 20) == 30:\n",
        "  print(\"Passes test 1 :) small_big_result(10, 20) == 30\")\n",
        "else:\n",
        "  print(f\"Fails test 1 :( Expected result from small_big_result(10, 20) is 30. However, the current result is {small_big_result(10, 20)}. Try again!\")\n",
        "\n",
        "print(\"\\n\")\n",
        "\n",
        "if small_big_result(30, 25) == \"Out of range\":\n",
        "  print(\"Passes test 2 :) small_big_result(30, 25) == \\\"Out of range\\\"\")\n",
        "else:\n",
        "  print(f\"Fails test 2 :( Expected result from small_big_result(30, 25) is \\\"Out of range\\\". However, the current result is {small_big_result(30, 25)}. Try again!\")\n",
        "\n",
        "print(\"\\n\")\n",
        "\n",
        "if small_big_result(70, 30) == 100:\n",
        "  print(\"Passes test 3 :) small_big_result(70, 30) == 100\")\n",
        "else:\n",
        "  print(f\"Fails test 3 :( Expected result from small_big_result(70, 30) is 100. However, the current result is {small_big_result(70, 30)}. Try again!\")"
      ],
      "metadata": {
        "colab": {
          "base_uri": "https://localhost:8080/"
        },
        "id": "GjOK3mZFdrsw",
        "outputId": "f7efbbf9-c385-4433-d406-71d492165c76",
        "cellView": "form"
      },
      "execution_count": 66,
      "outputs": [
        {
          "output_type": "stream",
          "name": "stdout",
          "text": [
            "Passes test 1 :) small_big_result(10, 20) == 30\n",
            "\n",
            "\n",
            "Passes test 2 :) small_big_result(30, 25) == \"Out of range\"\n",
            "\n",
            "\n",
            "Passes test 3 :) small_big_result(70, 30) == 100\n"
          ]
        }
      ]
    },
    {
      "cell_type": "markdown",
      "metadata": {
        "id": "R9g-XA9Udfke"
      },
      "source": [
        "### Bonus"
      ]
    },
    {
      "cell_type": "code",
      "execution_count": 67,
      "metadata": {
        "id": "Fp1HcFGfdfkf",
        "outputId": "cf027acb-b349-408e-91ba-6d10765ee4eb",
        "colab": {
          "base_uri": "https://localhost:8080/"
        }
      },
      "outputs": [
        {
          "output_type": "stream",
          "name": "stdout",
          "text": [
            "Result: 30\n",
            "Comment: Even Number\n"
          ]
        }
      ],
      "source": [
        "def small_big_result_bonus(n1: int, n2: int):\n",
        "    # Compute the addition\n",
        "    result = n1+n2\n",
        "\n",
        "    # Check even or odd\n",
        "    if result % 2 == 0:\n",
        "        comment = \"Even Number\"\n",
        "    else:\n",
        "        comment = \"Odd Number\"\n",
        "\n",
        "    # Print result\n",
        "    print(\"Result:\", result)\n",
        "\n",
        "    # Print comment\n",
        "    print(\"Comment:\", comment)\n",
        "\n",
        "small_big_result_bonus(10, 20)"
      ]
    },
    {
      "cell_type": "code",
      "source": [
        "#@title Tests for small_big_result_bonus\n",
        "# Expected outputs:\n",
        "print(\"small_big_result_bonus test 1: Even number result\")\n",
        "small_big_result_bonus(10, 20)\n",
        "print(\"\\n\")\n",
        "print(\"small_big_result_bonus test 2: Odd number result\")\n",
        "small_big_result_bonus(30, 25)"
      ],
      "metadata": {
        "colab": {
          "base_uri": "https://localhost:8080/"
        },
        "id": "VS_LnR2BkyaL",
        "outputId": "7946fc7e-236b-4f82-8289-86217ce09b72"
      },
      "execution_count": 68,
      "outputs": [
        {
          "output_type": "stream",
          "name": "stdout",
          "text": [
            "small_big_result_bonus test 1: Even number result\n",
            "Result: 30\n",
            "Comment: Even Number\n",
            "\n",
            "\n",
            "small_big_result_bonus test 2: Odd number result\n",
            "Result: 55\n",
            "Comment: Odd Number\n"
          ]
        }
      ]
    },
    {
      "cell_type": "code",
      "source": [
        "#@title Check your output above with this cell! If they match, your implementation is most likely correct!\n",
        "print(\"small_big_result_bonus test 1: Even number result\")\n",
        "print(\"Result: 30\")\n",
        "print(\"Comment: Even Number\")\n",
        "print(\"\\n\")\n",
        "print(\"small_big_result_bonus test 2: Odd number result\")\n",
        "print(\"Result: 55\")\n",
        "print(\"Comment: Odd Number\")"
      ],
      "metadata": {
        "colab": {
          "base_uri": "https://localhost:8080/"
        },
        "cellView": "form",
        "id": "6vrNnq5tlgZr",
        "outputId": "fd7ff2d8-2c27-4092-8fc6-4f421cec7507"
      },
      "execution_count": 69,
      "outputs": [
        {
          "output_type": "stream",
          "name": "stdout",
          "text": [
            "small_big_result_bonus test 1: Even number result\n",
            "Result: 30\n",
            "Comment: Even Number\n",
            "\n",
            "\n",
            "small_big_result_bonus test 2: Odd number result\n",
            "Result: 55\n",
            "Comment: Odd Number\n"
          ]
        }
      ]
    },
    {
      "cell_type": "markdown",
      "metadata": {
        "id": "9etztidLdfkf"
      },
      "source": [
        "## Combine Multiple Strings"
      ]
    },
    {
      "cell_type": "code",
      "execution_count": 70,
      "metadata": {
        "id": "-8BDdsWbdfkf",
        "outputId": "2f8e06cf-5e55-403b-dfce-200ca9730e41",
        "colab": {
          "base_uri": "https://localhost:8080/",
          "height": 36
        }
      },
      "outputs": [
        {
          "output_type": "execute_result",
          "data": {
            "text/plain": [
              "'HelloWorldPython'"
            ],
            "application/vnd.google.colaboratory.intrinsic+json": {
              "type": "string"
            }
          },
          "metadata": {},
          "execution_count": 70
        }
      ],
      "source": [
        "def combine_strings(strings: list[str]):\n",
        "    # Combine strings together\n",
        "    combined_str = \"\"\n",
        "    for s in strings:\n",
        "        combined_str += s\n",
        "\n",
        "    # Return the result\n",
        "    return combined_str\n",
        "    \n",
        "combine_strings([\"Hello\", \"World\", \"Python\"])"
      ]
    },
    {
      "cell_type": "code",
      "source": [
        "#@title Tests for combine_strings\n",
        "# Expected outputs:\n",
        "if combine_strings([\"Hello\", \"World\", \"Python\"]) == \"HelloWorldPython\":\n",
        "  print(\"Passes test 1 :) combine_strings([\\\"Hello\\\", \\\"World\\\", \\\"Python\\\"]) == \\\"HelloWorldPython\\\"\")\n",
        "else:\n",
        "  print(f\"\"\"Fails test 1 :( Expected result from combine_strings([\\\"Hello\\\", \\\"World\\\", \\\"Python\\\"]) is \\\"HelloWorldPython\\\".\n",
        "However, the current result is: {combine_strings([\"Hello\", \"World\", \"Python\"])}. Try again!\"\"\")\n",
        "\n",
        "print(\"\\n\")\n",
        "\n",
        "if combine_strings([]) == \"\":\n",
        "  print(\"Passes test 2 :) combine_strings([]) == \\\"\\\"\")\n",
        "else:\n",
        "  print(f\"\"\"Fails test 2 :( Expected result from combine_strings([]) is \\\"\\\".\n",
        "However, the current result is: {combine_strings([])}. Try again!\"\"\")"
      ],
      "metadata": {
        "colab": {
          "base_uri": "https://localhost:8080/"
        },
        "id": "6t4kWz-jmN05",
        "outputId": "39244474-ede6-4515-a81e-98a337952519"
      },
      "execution_count": 71,
      "outputs": [
        {
          "output_type": "stream",
          "name": "stdout",
          "text": [
            "Passes test 1 :) combine_strings([\"Hello\", \"World\", \"Python\"]) == \"HelloWorldPython\"\n",
            "\n",
            "\n",
            "Passes test 2 :) combine_strings([]) == \"\"\n"
          ]
        }
      ]
    },
    {
      "cell_type": "markdown",
      "metadata": {
        "id": "ktrbpKAedfkf"
      },
      "source": [
        "### Bonus"
      ]
    },
    {
      "cell_type": "code",
      "execution_count": 72,
      "metadata": {
        "id": "7UB4tlbbdfkf",
        "outputId": "a976a5e3-c6e3-4735-f47a-172aceade4c4",
        "colab": {
          "base_uri": "https://localhost:8080/",
          "height": 36
        }
      },
      "outputs": [
        {
          "output_type": "execute_result",
          "data": {
            "text/plain": [
              "'Hell oWor ldPy thon'"
            ],
            "application/vnd.google.colaboratory.intrinsic+json": {
              "type": "string"
            }
          },
          "metadata": {},
          "execution_count": 72
        }
      ],
      "source": [
        "def combine_strings_bonus(strings: list[str]):\n",
        "    # Combine strings together into one string\n",
        "    combined_str = \"\"\n",
        "    for s in strings:\n",
        "        combined_str += s\n",
        "\n",
        "    # ########################################## #\n",
        "    # Split combined string into list of 4 chars #\n",
        "    # ########################################## #\n",
        "\n",
        "    # idx is the current index into the string\n",
        "    idx = 0\n",
        "    # four_list will store the list of 4 chars\n",
        "    four_list = []\n",
        "\n",
        "    # Iterate while idx is smaller than length\n",
        "    # of combined_str\n",
        "    while idx < len(combined_str):\n",
        "\n",
        "        # Get 4 chars\n",
        "        substr = combined_str[idx:idx+4]\n",
        "        # Add it to four_list\n",
        "        four_list.append(substr)\n",
        "        # Increment our pointer\n",
        "        idx += 4\n",
        "\n",
        "    # Combine `four_list` into one string\n",
        "    # Think about how you can get rid of the final \" \" character!\n",
        "    final_str = \"\"\n",
        "    for s in four_list:\n",
        "        final_str += s + \" \"\n",
        "  \n",
        "\n",
        "    # return result\n",
        "    return final_str[:-1]\n",
        "          \n",
        "combine_strings_bonus([\"Hello\", \"World\", \"Python\"])"
      ]
    },
    {
      "cell_type": "code",
      "source": [
        "#@title Tests for combine_strings_bonus\n",
        "# Expected outputs:\n",
        "if combine_strings_bonus([\"Hello\", \"World\", \"Python\"]) == \"Hell oWor ldPy thon\":\n",
        "  print(\"Passes test 1 :) combine_strings_bonus([\\\"Hello\\\", \\\"World\\\", \\\"Python\\\"]) == \\\"Hell oWor ldPy thon\\\"\")\n",
        "else:\n",
        "  print(f\"\"\"Fails test 1 :( Expected result from combine_strings_bonus([\\\"Hello\\\", \\\"World\\\", \\\"Python\\\"]) is \\\"Hell oWor ldPy thon\\\".\n",
        "However, the current result is: {combine_strings_bonus([\"Hello\", \"World\", \"Python\"])}. Try again!\"\"\")\n",
        "\n",
        "print(\"\\n\")\n",
        "\n",
        "if combine_strings_bonus([]) == \"\":\n",
        "  print(\"Passes test 2 :) combine_strings_bonus([]) == \\\"\\\"\")\n",
        "else:\n",
        "  print(f\"\"\"Fails test 2 :( Expected result from combine_strings_bonus([]) is \\\"\\\".\n",
        "However, the current result is: {combine_strings_bonus([])}. Try again!\"\"\")\n",
        "  \n",
        "print(\"\\n\")\n",
        "\n",
        "if combine_strings_bonus([\"The\", \"brown\", \"fox\"]) == \"Theb rown fox\":\n",
        "  print(\"Passes test 3 :) combine_strings_bonus([\\\"The\\\", \\\"brown\\\", \\\"fox\\\"]) == \\\"Theb rown fox\\\"\")\n",
        "else:\n",
        "  print(f\"\"\"Fails test 3 :( Expected result from combine_strings_bonus([\\\"The\\\", \\\"brown\\\", \\\"fox\\\"]) is \\\"Theb rown fox\\\".\n",
        "However, the current result is: {combine_strings_bonus([\"The\", \"brown\", \"fox\"])}. Try again!\"\"\")\n",
        "   "
      ],
      "metadata": {
        "colab": {
          "base_uri": "https://localhost:8080/"
        },
        "id": "WsmOgTKAnf1v",
        "outputId": "7b8d7753-e843-4a48-8be1-97f806277300",
        "cellView": "form"
      },
      "execution_count": 73,
      "outputs": [
        {
          "output_type": "stream",
          "name": "stdout",
          "text": [
            "Passes test 1 :) combine_strings_bonus([\"Hello\", \"World\", \"Python\"]) == \"Hell oWor ldPy thon\"\n",
            "\n",
            "\n",
            "Passes test 2 :) combine_strings_bonus([]) == \"\"\n",
            "\n",
            "\n",
            "Passes test 3 :) combine_strings_bonus([\"The\", \"brown\", \"fox\"]) == \"Theb rown fox\"\n"
          ]
        }
      ]
    },
    {
      "cell_type": "markdown",
      "metadata": {
        "id": "GU0Zb_CBdfkg"
      },
      "source": [
        "## Random Number Manipulation"
      ]
    },
    {
      "cell_type": "code",
      "execution_count": 74,
      "metadata": {
        "id": "BDZHQcIjdfkg",
        "colab": {
          "base_uri": "https://localhost:8080/"
        },
        "outputId": "ebd79b8f-8e1f-46c4-c058-e152df1eab81"
      },
      "outputs": [
        {
          "output_type": "execute_result",
          "data": {
            "text/plain": [
              "14"
            ]
          },
          "metadata": {},
          "execution_count": 74
        }
      ],
      "source": [
        "import random\n",
        "\n",
        "def random_number_sum(num_ints: int):\n",
        "    # Define a variable to store the results in\n",
        "    result = 0 \n",
        "\n",
        "    # Find the result\n",
        "    for i in range(num_ints):\n",
        "        result += random.randint(1, 10)\n",
        "\n",
        "    # Return the result\n",
        "    return result\n",
        "    \n",
        "random_number_sum(3)"
      ]
    },
    {
      "cell_type": "code",
      "source": [
        "#@title Tests for random_number_sum\n",
        "# Expected outputs:\n",
        "# Test for randomness\n",
        "random_num_list = []\n",
        "for i in range(100):\n",
        "  random_num_list.append(random_number_sum(3))\n",
        "\n",
        "if len(set(random_num_list)) != 1: \n",
        "  print(\"Passes test 1 :) random_number_sum generates random numbers!\")\n",
        "else:\n",
        "  print(\"Fails test 1 :( random_number_sum does not generate random numbers. Try again!\")\n",
        "\n",
        "# Test for result in range\n",
        "test_2_passed = True\n",
        "for i in range(300): \n",
        "  x = random_number_sum(2)\n",
        "  if x < 2 or x > 20:\n",
        "    test_2_passed = False\n",
        "    break\n",
        "if test_2_passed:\n",
        "  print(\"Passes test 2 :) random_number_sum generates numbers within the correct range\")\n",
        "else:\n",
        "  print(f\"\"\"Fails test 2 :( random_number_sum(2) generates {x}. \n",
        "Remember that each individual random number generated must have a value between 1 and 10\"\"\")"
      ],
      "metadata": {
        "colab": {
          "base_uri": "https://localhost:8080/"
        },
        "id": "TGr6_04ppVLe",
        "outputId": "510bafb6-07a6-46cc-8095-9f4bbd002ee9"
      },
      "execution_count": 75,
      "outputs": [
        {
          "output_type": "stream",
          "name": "stdout",
          "text": [
            "Passes test 1 :) random_number_sum generates random numbers!\n",
            "Passes test 2 :) random_number_sum generates numbers within the correct range\n"
          ]
        }
      ]
    },
    {
      "cell_type": "code",
      "execution_count": 76,
      "metadata": {
        "id": "NKp7dAZRdfkg",
        "colab": {
          "base_uri": "https://localhost:8080/"
        },
        "outputId": "77a04dfb-140c-4c65-fb63-7bddb13aea56"
      },
      "outputs": [
        {
          "output_type": "execute_result",
          "data": {
            "text/plain": [
              "1"
            ]
          },
          "metadata": {},
          "execution_count": 76
        }
      ],
      "source": [
        "def random_number_sum_bonus(num_ints: int):\n",
        "    # Define a variable to store the results in\n",
        "    result = 0 \n",
        "\n",
        "    # Find the result\n",
        "    for i in range(num_ints):\n",
        "        # Randomly generate 0 or 1\n",
        "        add = random.randint(0,1)\n",
        "        # Note: 0 evaluates to False and 1 evaluates to True for if else!\n",
        "        if add == 1:\n",
        "            result += random.randint(1, 10)\n",
        "        else:\n",
        "            result -= random.randint(1, 10)\n",
        "    \n",
        "    # Return result\n",
        "    return result\n",
        "\n",
        "random_number_sum_bonus(3)"
      ]
    },
    {
      "cell_type": "code",
      "source": [
        "#@title Tests for random_number_sum_bonus\n",
        "\n",
        "# Use View > Show/hide code if you don't want to see this!\n",
        "\n",
        "# Expected outputs:\n",
        "# Test for randomness\n",
        "random_num_list = []\n",
        "for i in range(100):\n",
        "  random_num_list.append(random_number_sum_bonus(3))\n",
        "\n",
        "if len(set(random_num_list)) != 1: \n",
        "  print(\"Passes test 1 :) random_number_sum_bonus generates random numbers!\")\n",
        "else:\n",
        "  print(\"Fails test 1 :( random_number_sum_bonus does not generate random numbers. Try again!\")\n",
        "\n",
        "# Test for result in range\n",
        "test_2_passed = True\n",
        "for i in range(300): \n",
        "  x = random_number_sum(2)\n",
        "  if x < -20 or x > 20:\n",
        "    test_2_passed = False\n",
        "    break\n",
        "if test_2_passed:\n",
        "  print(\"Passes test 2 :) random_number_sum_bonus generates numbers within the correct range\")\n",
        "else:\n",
        "  print(f\"\"\"Fails test 2 :( random_number_sum_bonus(2) generates {x}. \n",
        "Remember that each individual random number generated must have a value between 1 and 10.\n",
        "In addition, this function can either subtract or add each individual random number.\"\"\")\n",
        "  \n",
        "# Test for both negative and positive values generated\n",
        "negative_sums_possible = False\n",
        "positive_sums_possible = False\n",
        "for i in range(100):\n",
        "  x = random_number_sum_bonus(3)\n",
        "  if x < 0:\n",
        "    negative_sums_possible = True\n",
        "  elif x > 0:\n",
        "    positive_sums_possible = True\n",
        "\n",
        "  if negative_sums_possible and positive_sums_possible:\n",
        "    break\n",
        "\n",
        "if negative_sums_possible:\n",
        "  print(\"Passes test 3 :) random_number_sum_bonus can generate negative sums!\")\n",
        "else:\n",
        "  print(\"Fails test 3 :( random_number_sum_bonus unable to generate negative sums\")\n",
        "\n",
        "if positive_sums_possible:\n",
        "  print(\"Passes test 4 :) random_number_sum_bonus can generate positive sums!\")\n",
        "else:\n",
        "  print(\"Fails test 4 :( random_number_sum_bonus unable to generate postive sums\")\n",
        "\n",
        "# Test that the random sum generated can use addition and subtraction within the same run\n",
        "add_sub_possible = False\n",
        "for i in range(2000):\n",
        "  x = random_number_sum_bonus(10)\n",
        "  if x > -10 and x < 10:\n",
        "    add_sub_possible = True\n",
        "    break\n",
        "\n",
        "if add_sub_possible:\n",
        "  print(\"Passes test 5 :) random_number_sum_bonus randomly picks between addition and subtraction each time!\")\n",
        "else:\n",
        "  print(\"Fails test 5 :( random_number_sum_bonus unable to randomly pick between addition and subtraction\")"
      ],
      "metadata": {
        "colab": {
          "base_uri": "https://localhost:8080/"
        },
        "id": "fs7YjjodroGM",
        "outputId": "9a1b5817-64bc-4749-9b70-750a4cef86a0",
        "cellView": "form"
      },
      "execution_count": 77,
      "outputs": [
        {
          "output_type": "stream",
          "name": "stdout",
          "text": [
            "Passes test 1 :) random_number_sum_bonus generates random numbers!\n",
            "Passes test 2 :) random_number_sum_bonus generates numbers within the correct range\n",
            "Passes test 3 :) random_number_sum_bonus can generate negative sums!\n",
            "Passes test 4 :) random_number_sum_bonus can generate positive sums!\n",
            "Passes test 5 :) random_number_sum_bonus randomly picks between addition and subtraction each time!\n"
          ]
        }
      ]
    },
    {
      "cell_type": "markdown",
      "metadata": {
        "id": "RmSwPyBadfkg"
      },
      "source": [
        "## Challenges"
      ]
    },
    {
      "cell_type": "markdown",
      "metadata": {
        "id": "I327O8Wxdfkh"
      },
      "source": [
        "### Christmas Tree Sample Code (Explanation below!)"
      ]
    },
    {
      "cell_type": "code",
      "execution_count": 78,
      "metadata": {
        "id": "Ph3NApfwdfkh",
        "colab": {
          "base_uri": "https://localhost:8080/"
        },
        "outputId": "bac73ca4-b633-4d5f-edad-5d01606a7488"
      },
      "outputs": [
        {
          "output_type": "stream",
          "name": "stdout",
          "text": [
            "    #\n",
            "   ###\n",
            "  #####\n",
            " #######\n",
            "#########\n",
            "    N\n"
          ]
        }
      ],
      "source": [
        "def generate_ascii_tree(n: int):\n",
        "  lines = []\n",
        "  # Generates a list of lists with correct number of '#' characters in each row\n",
        "  for i in range(n):\n",
        "      lines.append(\"#\"*(1+2*i))\n",
        "  \n",
        "  # Adds correct number of ' ' characters to each row\n",
        "  for i in range(n):\n",
        "      lines[i] = \" \"*(n-i-1) + lines[i]\n",
        "      \n",
        "  # Adds the base of the ascii_tree\n",
        "  lines.append(\" \"*(n-1) + \"N\")\n",
        "  # return lines for printing\n",
        "  return lines\n",
        "\n",
        "# Function to help you print the christmas tree\n",
        "def print_ascii_tree(lines):\n",
        "  # Print out the ascii_tree\n",
        "  for i in lines:\n",
        "      print(i)\n",
        "\n",
        "ascii_tree = generate_ascii_tree(5)\n",
        "print_ascii_tree(ascii_tree)"
      ]
    },
    {
      "cell_type": "code",
      "source": [
        "# Explaining how the code above works:\n",
        "# In other to generate the tree, we want to create a triangle of '#' characters \n",
        "# In other words, with n = 5, we want to print this:\n",
        "# [\n",
        "#    ['    #'],\n",
        "#    ['   ###'],\n",
        "#    ['  #####'],\n",
        "#    [' #######'],\n",
        "#    ['#########'],\n",
        "#    ['    N']\n",
        "# ]\n",
        "# This is a list of lists of strings (What a mouthful!)\n",
        "\n",
        "# How does the earlier code do this?\n",
        "# It breaks it up into the following steps:\n",
        "# Step 1: Generates the # characters for each row\n",
        "#   for i in range(n):\n",
        "#       lines.append(\"#\"*(1+2*i))\n",
        "# Following the pattern, the 1st row should have 1 '#' character,\n",
        "# The 2nd row 3 '#' characters, 3rd row 5 '#' characters...\n",
        "# Hence, the formula to get the number of '#' characters in each row is: \n",
        "# 1+2*i, i is the row index (remember that lists are 0-indexed so i starts at 0)\n",
        "\n",
        "# At the end of this step, lines should be this:\n",
        "# [\n",
        "#    ['#'],\n",
        "#    ['###'],\n",
        "#    ['#####'],\n",
        "#    ['#######'],\n",
        "#    ['#########']\n",
        "# ]\n",
        "\n",
        "# Step 2: Add the ' ' characters for each row\n",
        "#   for i in range(n):\n",
        "#       lines[i] = \" \"*(n-i-1) + lines[i]\n",
        "\n",
        "# From above, we can see that the 1st row should have 5-1 = 4 ' ' characters,\n",
        "# 2nd row should have 5 - 2 = 3 ' ' characters,\n",
        "# 3rd row should have 5 - 3 = 2 ' ' characters\n",
        "# Hence, the formula to get the number of ' ' characters in each row is: \n",
        "# n-i-1, i is the row index (remember that lists are 0-indexed so i starts at 0)\n",
        "# \" \"*(n-i-1) + lines[i] is used to add the correct number of ' ' characters\n",
        "\n",
        "# At the end of this step, lines should be this:\n",
        "# [\n",
        "#    ['    #'],\n",
        "#    ['   ###'],\n",
        "#    ['  #####'],\n",
        "#    [' #######'],\n",
        "#    ['#########']\n",
        "# ]\n",
        "\n",
        "# Step 3: Add the base of the ascii tree\n",
        "# lines.append(\" \"*(n-1) + \"N\")\n",
        "# We just need to add a 'N' character at the center of the last row!\n",
        "# At the end of this step, lines should be this:\n",
        "# [\n",
        "#    ['    #'],\n",
        "#    ['   ###'],\n",
        "#    ['  #####'],\n",
        "#    [' #######'],\n",
        "#    ['#########']\n",
        "#    ['    N    ']\n",
        "# ]\n",
        "\n",
        "# Step 4: Print!\n",
        "#  for i in lines:\n",
        "#      print(i)\n",
        "# Just need to print out each line to get our ascii tree as the output!\n",
        "\n",
        "# Printed output:\n",
        "\"\"\"\n",
        "    #\n",
        "   ###\n",
        "  #####\n",
        " #######\n",
        "#########\n",
        "    N\n",
        "\"\"\"\n",
        "pass"
      ],
      "metadata": {
        "id": "3QfDhX84aths"
      },
      "execution_count": 90,
      "outputs": []
    },
    {
      "cell_type": "markdown",
      "metadata": {
        "id": "wLV8m8mTdfkh"
      },
      "source": [
        "### Modifications"
      ]
    },
    {
      "cell_type": "code",
      "source": [
        "def generate_ascii_tree_thicker_base(n: int):\n",
        "  # Use this to generate the base ascii tree\n",
        "  lines = generate_ascii_tree(n)\n",
        "\n",
        "  # Use list indexing to access the last row which contains the base and modify it\n",
        "  # Feel free to write any variations that you like :)\n",
        "  lines[-1] = \" \" * (n-2) + \"||\"\n",
        "  return lines\n",
        "\n",
        "ascii_tree_thicker_base = generate_ascii_tree_thicker_base(5)\n",
        "print_ascii_tree(ascii_tree_thicker_base)"
      ],
      "metadata": {
        "colab": {
          "base_uri": "https://localhost:8080/"
        },
        "id": "2oaIhMDEnxJN",
        "outputId": "e82ab20d-2813-43b9-a2d5-6b078b249ea6"
      },
      "execution_count": 80,
      "outputs": [
        {
          "output_type": "stream",
          "name": "stdout",
          "text": [
            "    #\n",
            "   ###\n",
            "  #####\n",
            " #######\n",
            "#########\n",
            "   ||\n"
          ]
        }
      ]
    },
    {
      "cell_type": "code",
      "source": [
        "def generate_ascii_tree_plus_sign(n: int):\n",
        "   # Use this to generate the base ascii tree\n",
        "  lines = generate_ascii_tree(n)\n",
        "\n",
        "  # Insert an additional row at index 0 with the \"+\" characters\n",
        "  lines = [\" \" * (n-2) + \"+++\"] + lines\n",
        "  return lines\n",
        "\n",
        "ascii_tree_plus_sign = generate_ascii_tree_plus_sign(5)\n",
        "print_ascii_tree(ascii_tree_plus_sign)"
      ],
      "metadata": {
        "colab": {
          "base_uri": "https://localhost:8080/"
        },
        "id": "s7nmiZzmolJd",
        "outputId": "8a6bada2-354e-412b-c0d7-ce9d705125b3"
      },
      "execution_count": 81,
      "outputs": [
        {
          "output_type": "stream",
          "name": "stdout",
          "text": [
            "   +++\n",
            "    #\n",
            "   ###\n",
            "  #####\n",
            " #######\n",
            "#########\n",
            "    N\n"
          ]
        }
      ]
    },
    {
      "cell_type": "code",
      "source": [
        "def generate_ascii_tree_slashes(n: int):\n",
        "  lines = []\n",
        "  # Generate left hand side of the tree\n",
        "  # The row index, i, number of characters should be '/' in each row\n",
        "  # All the characters before the midpoint of each row should be '/'\n",
        "  # The row index + 1 is the midpoint of the tree \n",
        "  # (Remember the formula to get the correct number of '#' characters from earlier to see why)\n",
        "  for i in range(n):\n",
        "      lines.append(\"/\"*i)\n",
        "\n",
        "  # Set the midpoint to be \"/\\\"\n",
        "  # Remember to escape the string!\n",
        "  for i in range(n):\n",
        "      lines[i] += \"/\\\\\"\n",
        "  \n",
        "  # Generate right hand side of the tree\n",
        "  # The row index, i, number of characters should be '\\' in each row\n",
        "  # All the characters after the midpoint of each row should be '\\'\n",
        "  # Remember to escape the string!\n",
        "  for i in range(n):\n",
        "      lines[i] += \"\\\\\"*i\n",
        "  \n",
        "  # Add the spaces\n",
        "  # This is the same as the starting ascii tree\n",
        "  for i in range(n):\n",
        "      lines[i] = \" \"*(n-i-1) + lines[i]\n",
        "\n",
        "  # Add the base\n",
        "  lines.append(\" \"*(n-1) + \"||\") \n",
        "  return lines\n",
        "\n",
        "ascii_tree_slashes = generate_ascii_tree_slashes(5)\n",
        "print_ascii_tree(ascii_tree_slashes)"
      ],
      "metadata": {
        "colab": {
          "base_uri": "https://localhost:8080/"
        },
        "id": "f4eQ_C49qWwT",
        "outputId": "05e0ece0-a216-4a05-dc67-e4ba255ba109"
      },
      "execution_count": 82,
      "outputs": [
        {
          "output_type": "stream",
          "name": "stdout",
          "text": [
            "    /\\\n",
            "   //\\\\\n",
            "  ///\\\\\\\n",
            " ////\\\\\\\\\n",
            "/////\\\\\\\\\\\n",
            "    ||\n"
          ]
        }
      ]
    },
    {
      "cell_type": "code",
      "source": [
        "import random\n",
        "\n",
        "def generate_ascii_tree_bells(n: int, n_bells: int):\n",
        "  # Feel free to pick either the tree with '#' or the tree with '/\\' here!\n",
        "  lines = generate_ascii_tree(n)\n",
        "\n",
        "  # Randomly place the bells\n",
        "  for i in range(n_bells):\n",
        "    # Pick a random row\n",
        "    row_idx = random.randint(0,n-1)  \n",
        "    # Pick a random column in that row\n",
        "    # The random spot should not be a ' ' character!\n",
        "    # Remember that each row has a different length\n",
        "    col_idx = random.randint(n - row_idx - 1, len(lines[row_idx]) - 1)\n",
        "    # Since each line is a string, need to convert to a list of characters using list()\n",
        "    # list(\"abcd\") -> [\"a\", \"b\", \"c\", \"d\"]\n",
        "    line = list(lines[row_idx])\n",
        "    # Modify the character at that index\n",
        "    line[col_idx] = \"@\"\n",
        "    # Convert the line back to a string using join\n",
        "    # [\"a\", \"b\", \"c\", \"d\"] -> \"abcd\"\n",
        "    line = \"\".join(line)\n",
        "    # Update the row\n",
        "    lines[row_idx] = line\n",
        "  \n",
        "  return lines\n",
        "\n",
        "ascii_tree_bells = generate_ascii_tree_bells(5, 5)\n",
        "print_ascii_tree(ascii_tree_bells)"
      ],
      "metadata": {
        "colab": {
          "base_uri": "https://localhost:8080/"
        },
        "id": "EvfGI5IAuNIc",
        "outputId": "33a12e77-d092-4ca0-d247-0b2f77882210"
      },
      "execution_count": 83,
      "outputs": [
        {
          "output_type": "stream",
          "name": "stdout",
          "text": [
            "    @\n",
            "   @#@\n",
            "  #####\n",
            " ######@\n",
            "######@##\n",
            "    N\n"
          ]
        }
      ]
    },
    {
      "cell_type": "code",
      "source": [
        "# Try making variations of your own ascii tree!"
      ],
      "metadata": {
        "id": "hZUztSL_4E0o"
      },
      "execution_count": null,
      "outputs": []
    },
    {
      "cell_type": "markdown",
      "metadata": {
        "id": "o3VLtbWwdfkh"
      },
      "source": [
        "## Fibonacci Sample Code"
      ]
    },
    {
      "cell_type": "code",
      "execution_count": 84,
      "metadata": {
        "id": "MkoI5h4Rdfkh",
        "colab": {
          "base_uri": "https://localhost:8080/"
        },
        "outputId": "b336a7f4-1195-4bd7-a67d-5eba593aef5c"
      },
      "outputs": [
        {
          "output_type": "stream",
          "name": "stdout",
          "text": [
            "[1, 1, 2, 3, 5, 8, 13, 21, 34, 55]\n"
          ]
        }
      ],
      "source": [
        "# Fibonacci Function\n",
        "def fibonacci_fun(terms_num):\n",
        "    # List to store results in\n",
        "    fib_res = []\n",
        "    for i in range(terms_num):\n",
        "        if i == 0 or i == 1:\n",
        "            fib_res.append(1)\n",
        "        else:\n",
        "            prev_val_a = fib_res[i - 1] # Get the last value\n",
        "            prev_val_b = fib_res[i - 2] # Get the 2nd last value\n",
        "            fib_res.append(prev_val_a + prev_val_b) # Add the new value to the list\n",
        "    return fib_res\n",
        "\n",
        "print(fibonacci_fun(10))"
      ]
    },
    {
      "cell_type": "code",
      "source": [
        "# Alternative solution with recursion\n",
        "def fibonacci_fun(terms_num):  \n",
        "    # Base cases:\n",
        "    if terms_num == 0:\n",
        "      return []\n",
        "    elif terms_num == 1:\n",
        "      return [1]\n",
        "    elif terms_num == 2:\n",
        "      return [1, 1]\n",
        "    # Recursive step\n",
        "    else:\n",
        "      prev_terms = fibonacci_fun(terms_num-1)\n",
        "      # Add the newly calculated term\n",
        "      prev_terms.append(prev_terms[-1] + prev_terms[-2])\n",
        "      # Return the result\n",
        "      return prev_terms\n",
        "\n",
        "print(fibonacci_fun(10))"
      ],
      "metadata": {
        "colab": {
          "base_uri": "https://localhost:8080/"
        },
        "id": "VvaL_wvVvFQ7",
        "outputId": "8e20106c-9252-4210-aabf-b2c467a66e98"
      },
      "execution_count": 85,
      "outputs": [
        {
          "output_type": "stream",
          "name": "stdout",
          "text": [
            "[1, 1, 2, 3, 5, 8, 13, 21, 34, 55]\n"
          ]
        }
      ]
    },
    {
      "cell_type": "code",
      "source": [
        "#@title Tests for fibonacci_fun\n",
        "# Expected outputs:\n",
        "if fibonacci_fun(5) == [1, 1, 2, 3, 5]:\n",
        "  print(\"Passes test 1 :) fibonacci_fun(5) == [1, 1, 2, 3, 5]\")\n",
        "else:\n",
        "  print(f\"\"\"Fails test 1 :( Expected result from fibonacci_fun(5) is [1, 1, 2, 3, 5].\n",
        "However, the current result is: {fibonacci_fun(5)}. Try again!\"\"\")\n",
        "\n",
        "print(\"\\n\")\n",
        "\n",
        "if fibonacci_fun(0) == []:\n",
        "  print(\"Passes test 2 :) fibonacci_fun(0) == []\")\n",
        "else:\n",
        "  print(f\"\"\"Fails test 2 :( Expected result from fibonacci_fun(0) is [].\n",
        "However, the current result is: {fibonacci_fun(0)}. Try again!\"\"\")\n",
        "  \n",
        "print(\"\\n\")\n",
        "\n",
        "if fibonacci_fun(1) == [1]:\n",
        "  print(\"Passes test 3 :) fibonacci_fun(1) == [1]\")\n",
        "else:\n",
        "  print(f\"\"\"Fails test 3 :( Expected result from fibonacci_fun(1)) is [1].\n",
        "However, the current result is: {fibonacci_fun(1)}. Try again!\"\"\")\n",
        "\n",
        "print(\"\\n\")\n",
        "\n",
        "if fibonacci_fun(2) == [1, 1]:\n",
        "  print(\"Passes test 4 :) fibonacci_fun(2) == [1, 1]\")\n",
        "else:\n",
        "  print(f\"\"\"Fails test 4 :( Expected result from fibonacci_fun(2)) is [1, 1].\n",
        "However, the current result is: {fibonacci_fun(2)}. Try again!\"\"\")\n"
      ],
      "metadata": {
        "colab": {
          "base_uri": "https://localhost:8080/"
        },
        "id": "T8U-xn86uVL1",
        "outputId": "2a493856-1bf0-482f-e8fa-e6e15d2fcab3"
      },
      "execution_count": 86,
      "outputs": [
        {
          "output_type": "stream",
          "name": "stdout",
          "text": [
            "Passes test 1 :) fibonacci_fun(5) == [1, 1, 2, 3, 5]\n",
            "\n",
            "\n",
            "Passes test 2 :) fibonacci_fun(0) == []\n",
            "\n",
            "\n",
            "Passes test 3 :) fibonacci_fun(1) == [1]\n",
            "\n",
            "\n",
            "Passes test 4 :) fibonacci_fun(2) == [1, 1]\n"
          ]
        }
      ]
    },
    {
      "cell_type": "code",
      "execution_count": 87,
      "metadata": {
        "id": "SCHiryFHdfkh",
        "colab": {
          "base_uri": "https://localhost:8080/"
        },
        "outputId": "50f2d9c3-28a5-4273-dcdd-6504a6dd8413"
      },
      "outputs": [
        {
          "output_type": "stream",
          "name": "stdout",
          "text": [
            "144\n"
          ]
        }
      ],
      "source": [
        "# Finding first term larger than 100\n",
        "for term in fibonacci_fun(13):\n",
        "    if term > 100:\n",
        "        print(term)\n",
        "        break"
      ]
    },
    {
      "cell_type": "code",
      "execution_count": 88,
      "metadata": {
        "id": "jgNUl9pzdfkh",
        "colab": {
          "base_uri": "https://localhost:8080/"
        },
        "outputId": "5cb4057f-68ce-466b-f5a3-f9b62bb6f31c"
      },
      "outputs": [
        {
          "output_type": "stream",
          "name": "stdout",
          "text": [
            "17710\n"
          ]
        }
      ],
      "source": [
        "# Finding sum of first 20 terms\n",
        "\n",
        "fib_sum = 0\n",
        "for term in fibonacci_fun(20):\n",
        "    fib_sum += term\n",
        "print(fib_sum)"
      ]
    },
    {
      "cell_type": "code",
      "execution_count": 89,
      "metadata": {
        "id": "ztaV8TQQdfkh",
        "colab": {
          "base_uri": "https://localhost:8080/"
        },
        "outputId": "14695143-4879-4ea5-a8cc-3deedd7a6cbc"
      },
      "outputs": [
        {
          "output_type": "stream",
          "name": "stdout",
          "text": [
            "15004\n"
          ]
        }
      ],
      "source": [
        "# Finding largest factor for 25th term except for itself\n",
        "\n",
        "largest_factor = 1 # variable to store largest factor\n",
        "fib_term_25 = fibonacci_fun(25)[24] # the 25th \n",
        "\n",
        "for number in range(fib_term_25):\n",
        "    if fib_term_25 % (number + 1) == 0 and fib_term_25 != (number + 1):\n",
        "        largest_factor = number\n",
        "print(largest_factor)"
      ]
    }
  ],
  "metadata": {
    "kernelspec": {
      "display_name": "Python 3 (ipykernel)",
      "language": "python",
      "name": "python3"
    },
    "language_info": {
      "codemirror_mode": {
        "name": "ipython",
        "version": 3
      },
      "file_extension": ".py",
      "mimetype": "text/x-python",
      "name": "python",
      "nbconvert_exporter": "python",
      "pygments_lexer": "ipython3",
      "version": "3.9.13"
    },
    "colab": {
      "provenance": []
    }
  },
  "nbformat": 4,
  "nbformat_minor": 0
}