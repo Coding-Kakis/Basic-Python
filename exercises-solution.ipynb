{
  "cells": [
    {
      "cell_type": "markdown",
      "metadata": {
        "id": "qr-lpSpsdfka"
      },
      "source": [
        "## Summing 2 Numbers"
      ]
    },
    {
      "cell_type": "code",
      "execution_count": null,
      "metadata": {
        "id": "ZkIE1JAKdfkb",
        "outputId": "f64adc54-8c50-485d-9401-a3c3d3e80a4b",
        "colab": {
          "base_uri": "https://localhost:8080/"
        }
      },
      "outputs": [
        {
          "output_type": "stream",
          "name": "stdout",
          "text": [
            "Add: 30\n"
          ]
        }
      ],
      "source": [
        "# Define the two numbers\n",
        "n1 = 10\n",
        "n2 = 20\n",
        "\n",
        "# Compute the addition\n",
        "add = n1+n2\n",
        "\n",
        "# Print the results\n",
        "print(\"Add:\", add)\n"
      ]
    },
    {
      "cell_type": "markdown",
      "metadata": {
        "id": "AV3lLnpVdfkd"
      },
      "source": [
        "### Bonus"
      ]
    },
    {
      "cell_type": "code",
      "execution_count": null,
      "metadata": {
        "id": "PfOEVoeRdfkd",
        "outputId": "e527aff5-2a48-4987-ceb0-8b61c8e50d25",
        "colab": {
          "base_uri": "https://localhost:8080/"
        }
      },
      "outputs": [
        {
          "output_type": "stream",
          "name": "stdout",
          "text": [
            "Sub: -10\n",
            "Mul: 200\n",
            "Div: 0.5\n"
          ]
        }
      ],
      "source": [
        "# Define the two numbers\n",
        "n1 = 10\n",
        "n2 = 20\n",
        "\n",
        "# Compute the subtraction\n",
        "sub = n1-n2\n",
        "\n",
        "# Compute the multiplication\n",
        "mul = n1*n2\n",
        "\n",
        "# Compute the division\n",
        "div = n1/n2\n",
        "\n",
        "# Print the results\n",
        "print(\"Sub:\", sub)\n",
        "print(\"Mul:\", mul)\n",
        "print(\"Div:\", div)"
      ]
    },
    {
      "cell_type": "markdown",
      "metadata": {
        "id": "OuEggidvdfkd"
      },
      "source": [
        "## Combine Two Strings"
      ]
    },
    {
      "cell_type": "code",
      "execution_count": null,
      "metadata": {
        "id": "YGqyHJpDdfke",
        "outputId": "10098cad-7472-4325-8ebc-9d7daa542bec",
        "colab": {
          "base_uri": "https://localhost:8080/"
        }
      },
      "outputs": [
        {
          "output_type": "stream",
          "name": "stdout",
          "text": [
            "Combined string: HelloWorld\n"
          ]
        }
      ],
      "source": [
        "# Define the strings\n",
        "str1 = \"Hello\"\n",
        "str2 = \"World\"\n",
        "\n",
        "# Combine the strings together\n",
        "combined_str = str1 + str2\n",
        "\n",
        "# Print result\n",
        "print(\"Combined string:\", combined_str)"
      ]
    },
    {
      "cell_type": "markdown",
      "metadata": {
        "id": "KxsngqWLdfke"
      },
      "source": [
        "### Bonus"
      ]
    },
    {
      "cell_type": "code",
      "execution_count": null,
      "metadata": {
        "id": "Gfvbq1aMdfke",
        "outputId": "b885351d-7a7f-4454-c947-b779423c926f",
        "colab": {
          "base_uri": "https://localhost:8080/"
        }
      },
      "outputs": [
        {
          "output_type": "stream",
          "name": "stdout",
          "text": [
            "Combined string: Hello World\n"
          ]
        }
      ],
      "source": [
        "# Define the strings\n",
        "str1 = \"Hello\"\n",
        "str2 = \"World\"\n",
        "\n",
        "# Combine the strings with a space in between\n",
        "combined_str = str1 + \" \" + str2\n",
        "\n",
        "# Print result\n",
        "print(\"Combined string:\", combined_str)"
      ]
    },
    {
      "cell_type": "markdown",
      "metadata": {
        "id": "K6eirYq6dfke"
      },
      "source": [
        "## Small Big Result\n"
      ]
    },
    {
      "cell_type": "code",
      "execution_count": null,
      "metadata": {
        "colab": {
          "base_uri": "https://localhost:8080/"
        },
        "id": "AEGTpOfddfke",
        "outputId": "7460d82d-93dd-46ff-b4fd-c16712566738"
      },
      "outputs": [
        {
          "output_type": "execute_result",
          "data": {
            "text/plain": [
              "30"
            ]
          },
          "metadata": {},
          "execution_count": 5
        }
      ],
      "source": [
        "def small_big_result(n1: int, n2: int):\n",
        "  # Compute the addition\n",
        "  result = n1+n2\n",
        "\n",
        "  # Check if addition within range\n",
        "  if result < 50 or result >= 100:\n",
        "     # Returns the result\n",
        "    return result\n",
        "  else:\n",
        "    # Return \"Out of range\"\n",
        "    return \"Out of range\"\n",
        " \n",
        "small_big_result(10, 20)"
      ]
    },
    {
      "cell_type": "code",
      "source": [
        "#@title Tests for small_big_result\n",
        "# Expected outputs:\n",
        "if small_big_result(10, 20) == 30:\n",
        "  print(\"Passes test 1 :) small_big_result(10, 20) == 30\")\n",
        "else:\n",
        "  print(f\"Fails test 1 :( Expected result from small_big_result(10, 20) is 30. However, the current result is {small_big_result(10, 20)}. Try again!\")\n",
        "\n",
        "print(\"\\n\")\n",
        "\n",
        "if small_big_result(30, 25) == \"Out of range\":\n",
        "  print(\"Passes test 2 :) small_big_result(30, 25) == \\\"Out of range\\\"\")\n",
        "else:\n",
        "  print(f\"Fails test 2 :( Expected result from small_big_result(30, 25) is \\\"Out of range\\\". However, the current result is {small_big_result(30, 25)}. Try again!\")\n",
        "\n",
        "print(\"\\n\")\n",
        "\n",
        "if small_big_result(70, 30) == 100:\n",
        "  print(\"Passes test 3 :) small_big_result(70, 30) == 100\")\n",
        "else:\n",
        "  print(f\"Fails test 3 :( Expected result from small_big_result(70, 30) is 100. However, the current result is {small_big_result(70, 30)}. Try again!\")"
      ],
      "metadata": {
        "colab": {
          "base_uri": "https://localhost:8080/"
        },
        "id": "GjOK3mZFdrsw",
        "outputId": "273441ba-21c0-438c-df92-f10ddddb54ce"
      },
      "execution_count": null,
      "outputs": [
        {
          "output_type": "stream",
          "name": "stdout",
          "text": [
            "Passes test 1 :) small_big_result(10, 20) == 30\n",
            "\n",
            "\n",
            "Passes test 2 :) small_big_result(30, 25) == \"Out of range\"\n",
            "\n",
            "\n",
            "Passes test 3 :) small_big_result(70, 30) == 100\n"
          ]
        }
      ]
    },
    {
      "cell_type": "markdown",
      "metadata": {
        "id": "R9g-XA9Udfke"
      },
      "source": [
        "### Bonus"
      ]
    },
    {
      "cell_type": "code",
      "execution_count": null,
      "metadata": {
        "id": "Fp1HcFGfdfkf",
        "outputId": "5cf638e7-4b15-41f3-eac7-6481079f8f5e",
        "colab": {
          "base_uri": "https://localhost:8080/"
        }
      },
      "outputs": [
        {
          "output_type": "stream",
          "name": "stdout",
          "text": [
            "Result: 30\n",
            "Comment: Even Number\n"
          ]
        }
      ],
      "source": [
        "def small_big_result_bonus(n1: int, n2: int):\n",
        "    # Compute the addition\n",
        "    result = n1+n2\n",
        "\n",
        "    # Check even or odd\n",
        "    if result % 2 == 0:\n",
        "        comment = \"Even Number\"\n",
        "    else:\n",
        "        comment = \"Odd Number\"\n",
        "\n",
        "    # Print result\n",
        "    print(\"Result:\", result)\n",
        "\n",
        "    # Print comment\n",
        "    print(\"Comment:\", comment)\n",
        "\n",
        "small_big_result_bonus(10, 20)"
      ]
    },
    {
      "cell_type": "code",
      "source": [
        "#@title Tests for small_big_result_bonus\n",
        "# Expected outputs:\n",
        "print(\"small_big_result_bonus test 1: Even number result\")\n",
        "small_big_result_bonus(10, 20)\n",
        "print(\"\\n\")\n",
        "print(\"small_big_result_bonus test 2: Odd number result\")\n",
        "small_big_result_bonus(30, 25)"
      ],
      "metadata": {
        "colab": {
          "base_uri": "https://localhost:8080/"
        },
        "id": "VS_LnR2BkyaL",
        "outputId": "9efa902a-7e40-4bab-cdab-5ac6cf18be71"
      },
      "execution_count": null,
      "outputs": [
        {
          "output_type": "stream",
          "name": "stdout",
          "text": [
            "small_big_result_bonus test 1: Even number result\n",
            "Result: 30\n",
            "Comment: Even Number\n",
            "\n",
            "\n",
            "small_big_result_bonus test 2: Odd number result\n",
            "Result: 55\n",
            "Comment: Odd Number\n"
          ]
        }
      ]
    },
    {
      "cell_type": "code",
      "source": [
        "#@title Check your output above with this cell! If they match, your implementation is most likely correct!\n",
        "print(\"small_big_result_bonus test 1: Even number result\")\n",
        "print(\"Result: 30\")\n",
        "print(\"Comment: Even Number\")\n",
        "print(\"\\n\")\n",
        "print(\"small_big_result_bonus test 2: Odd number result\")\n",
        "print(\"Result: 55\")\n",
        "print(\"Comment: Odd Number\")"
      ],
      "metadata": {
        "colab": {
          "base_uri": "https://localhost:8080/"
        },
        "cellView": "form",
        "id": "6vrNnq5tlgZr",
        "outputId": "ac67284c-edd0-49cc-aa20-a358c24377b8"
      },
      "execution_count": null,
      "outputs": [
        {
          "output_type": "stream",
          "name": "stdout",
          "text": [
            "small_big_result_bonus test 1: Even number result\n",
            "Result: 30\n",
            "Comment: Even Number\n",
            "\n",
            "\n",
            "small_big_result_bonus test 2: Odd number result\n",
            "Result: 55\n",
            "Comment: Odd Number\n"
          ]
        }
      ]
    },
    {
      "cell_type": "markdown",
      "metadata": {
        "id": "9etztidLdfkf"
      },
      "source": [
        "## Combine Multiple Strings"
      ]
    },
    {
      "cell_type": "code",
      "execution_count": null,
      "metadata": {
        "id": "-8BDdsWbdfkf",
        "outputId": "65af67bb-edfc-480f-95ad-e318b61e62fb",
        "colab": {
          "base_uri": "https://localhost:8080/",
          "height": 35
        }
      },
      "outputs": [
        {
          "output_type": "execute_result",
          "data": {
            "text/plain": [
              "'HelloWorldPython'"
            ],
            "application/vnd.google.colaboratory.intrinsic+json": {
              "type": "string"
            }
          },
          "metadata": {},
          "execution_count": 10
        }
      ],
      "source": [
        "def combine_strings(strings: list[str]):\n",
        "    # Combine strings together\n",
        "    combined_str = \"\"\n",
        "    for s in strings:\n",
        "        combined_str += s\n",
        "\n",
        "    # Return the result\n",
        "    return combined_str\n",
        "    \n",
        "combine_strings([\"Hello\", \"World\", \"Python\"])"
      ]
    },
    {
      "cell_type": "code",
      "source": [
        "#@title Tests for combine_strings\n",
        "# Expected outputs:\n",
        "if combine_strings([\"Hello\", \"World\", \"Python\"]) == \"HelloWorldPython\":\n",
        "  print(\"Passes test 1 :) combine_strings([\\\"Hello\\\", \\\"World\\\", \\\"Python\\\"]) == \\\"HelloWorldPython\\\"\")\n",
        "else:\n",
        "  print(f\"\"\"Fails test 1 :( Expected result from combine_strings([\\\"Hello\\\", \\\"World\\\", \\\"Python\\\"]) is \\\"HelloWorldPython\\\".\n",
        "However, the current result is: {combine_strings([\"Hello\", \"World\", \"Python\"])}. Try again!\"\"\")\n",
        "\n",
        "print(\"\\n\")\n",
        "\n",
        "if combine_strings([]) == \"\":\n",
        "  print(\"Passes test 2 :) combine_strings([]) == \\\"\\\"\")\n",
        "else:\n",
        "  print(f\"\"\"Fails test 2 :( Expected result from combine_strings([]) is \\\"\\\".\n",
        "However, the current result is: {combine_strings([])}. Try again!\"\"\")"
      ],
      "metadata": {
        "colab": {
          "base_uri": "https://localhost:8080/"
        },
        "id": "6t4kWz-jmN05",
        "outputId": "caa73314-2ffb-4047-d8b4-80d13bf71325"
      },
      "execution_count": null,
      "outputs": [
        {
          "output_type": "stream",
          "name": "stdout",
          "text": [
            "Passes test 1 :) combine_strings([\"Hello\", \"World\", \"Python\"]) == \"HelloWorldPython\"\n",
            "\n",
            "\n",
            "Passes test 2 :) combine_strings([]) == \"\"\n"
          ]
        }
      ]
    },
    {
      "cell_type": "markdown",
      "metadata": {
        "id": "ktrbpKAedfkf"
      },
      "source": [
        "### Bonus"
      ]
    },
    {
      "cell_type": "code",
      "execution_count": null,
      "metadata": {
        "id": "7UB4tlbbdfkf",
        "outputId": "0e62b367-ec2e-4048-eeae-7af142ea847a",
        "colab": {
          "base_uri": "https://localhost:8080/",
          "height": 35
        }
      },
      "outputs": [
        {
          "output_type": "execute_result",
          "data": {
            "text/plain": [
              "'Hell oWor ldPy thon'"
            ],
            "application/vnd.google.colaboratory.intrinsic+json": {
              "type": "string"
            }
          },
          "metadata": {},
          "execution_count": 12
        }
      ],
      "source": [
        "def combine_strings_bonus(strings: list[str]):\n",
        "    # Combine strings together into one string\n",
        "    combined_str = \"\"\n",
        "    for s in strings:\n",
        "        combined_str += s\n",
        "\n",
        "    # ########################################## #\n",
        "    # Split combined string into list of 4 chars #\n",
        "    # ########################################## #\n",
        "\n",
        "    # idx is the current index into the string\n",
        "    idx = 0\n",
        "    # four_list will store the list of 4 chars\n",
        "    four_list = []\n",
        "\n",
        "    # Iterate while idx is smaller than length\n",
        "    # of combined_str\n",
        "    while idx < len(combined_str):\n",
        "\n",
        "        # Get 4 chars\n",
        "        substr = combined_str[idx:idx+4]\n",
        "        # Add it to four_list\n",
        "        four_list.append(substr)\n",
        "        # Increment our pointer\n",
        "        idx += 4\n",
        "\n",
        "    # Combine `four_list` into one string\n",
        "    # Think about how you can get rid of the final \" \" character!\n",
        "    final_str = \"\"\n",
        "    for s in four_list:\n",
        "        final_str += s + \" \"\n",
        "  \n",
        "\n",
        "    # return result\n",
        "    return final_str[:-1]\n",
        "          \n",
        "combine_strings_bonus([\"Hello\", \"World\", \"Python\"])"
      ]
    },
    {
      "cell_type": "code",
      "source": [
        "#@title Tests for combine_strings_bonus\n",
        "# Expected outputs:\n",
        "if combine_strings_bonus([\"Hello\", \"World\", \"Python\"]) == \"Hell oWor ldPy thon\":\n",
        "  print(\"Passes test 1 :) combine_strings_bonus([\\\"Hello\\\", \\\"World\\\", \\\"Python\\\"]) == \\\"Hell oWor ldPy thon\\\"\")\n",
        "else:\n",
        "  print(f\"\"\"Fails test 1 :( Expected result from combine_strings_bonus([\\\"Hello\\\", \\\"World\\\", \\\"Python\\\"]) is \\\"Hell oWor ldPy thon\\\".\n",
        "However, the current result is: {combine_strings_bonus([\"Hello\", \"World\", \"Python\"])}. Try again!\"\"\")\n",
        "\n",
        "print(\"\\n\")\n",
        "\n",
        "if combine_strings_bonus([]) == \"\":\n",
        "  print(\"Passes test 2 :) combine_strings_bonus([]) == \\\"\\\"\")\n",
        "else:\n",
        "  print(f\"\"\"Fails test 2 :( Expected result from combine_strings_bonus([]) is \\\"\\\".\n",
        "However, the current result is: {combine_strings_bonus([])}. Try again!\"\"\")\n",
        "  \n",
        "print(\"\\n\")\n",
        "\n",
        "if combine_strings_bonus([\"The\", \"brown\", \"fox\"]) == \"Theb rown fox\":\n",
        "  print(\"Passes test 3 :) combine_strings_bonus([\\\"The\\\", \\\"brown\\\", \\\"fox\\\"]) == \\\"Theb rown fox\\\"\")\n",
        "else:\n",
        "  print(f\"\"\"Fails test 3 :( Expected result from combine_strings_bonus([\\\"The\\\", \\\"brown\\\", \\\"fox\\\"]) is \\\"Theb rown fox\\\".\n",
        "However, the current result is: {combine_strings_bonus([\"The\", \"brown\", \"fox\"])}. Try again!\"\"\")\n",
        "   "
      ],
      "metadata": {
        "colab": {
          "base_uri": "https://localhost:8080/"
        },
        "id": "WsmOgTKAnf1v",
        "outputId": "33ebb3fb-7ffa-42cb-b50e-30140c345cfe"
      },
      "execution_count": null,
      "outputs": [
        {
          "output_type": "stream",
          "name": "stdout",
          "text": [
            "Passes test 1 :) combine_strings_bonus([\"Hello\", \"World\", \"Python\"]) == \"Hell oWor ldPy thon\"\n",
            "\n",
            "\n",
            "Passes test 2 :) combine_strings_bonus([]) == \"\"\n",
            "\n",
            "\n",
            "Passes test 3 :) combine_strings_bonus([\"The\", \"brown\", \"fox\"]) == \"Theb rown fox\"\n"
          ]
        }
      ]
    },
    {
      "cell_type": "markdown",
      "metadata": {
        "id": "GU0Zb_CBdfkg"
      },
      "source": [
        "## Random Number Manipulation"
      ]
    },
    {
      "cell_type": "code",
      "execution_count": null,
      "metadata": {
        "id": "BDZHQcIjdfkg",
        "colab": {
          "base_uri": "https://localhost:8080/"
        },
        "outputId": "47b16d5f-f533-4b39-8cdd-3dfff95b9ac2"
      },
      "outputs": [
        {
          "output_type": "execute_result",
          "data": {
            "text/plain": [
              "12"
            ]
          },
          "metadata": {},
          "execution_count": 14
        }
      ],
      "source": [
        "import random\n",
        "\n",
        "def random_number_sum(num_ints: int):\n",
        "    # Define a variable to store the results in\n",
        "    result = 0 \n",
        "\n",
        "    # Find the result\n",
        "    for i in range(num_ints):\n",
        "        result += random.randint(1, 10)\n",
        "\n",
        "    # Return the result\n",
        "    return result\n",
        "    \n",
        "random_number_sum(3)"
      ]
    },
    {
      "cell_type": "code",
      "source": [
        "#@title Tests for random_number_sum\n",
        "# Expected outputs:\n",
        "# Test for randomness\n",
        "random_num_list = []\n",
        "for i in range(100):\n",
        "  random_num_list.append(random_number_sum(3))\n",
        "\n",
        "if len(set(random_num_list)) != 1: \n",
        "  print(\"Passes test 1 :) random_number_sum generates random numbers!\")\n",
        "else:\n",
        "  print(\"Fails test 1 :( random_number_sum does not generate random numbers. Try again!\")\n",
        "\n",
        "# Test for result in range\n",
        "test_2_passed = True\n",
        "for i in range(300): \n",
        "  x = random_number_sum(2)\n",
        "  if x < 2 or x > 20:\n",
        "    test_2_passed = False\n",
        "    break\n",
        "if test_2_passed:\n",
        "  print(\"Passes test 2 :) random_number_sum generates numbers within the correct range\")\n",
        "else:\n",
        "  print(f\"\"\"Fails test 2 :( random_number_sum(2) generates {x}. \n",
        "Remember that each individual random number generated must have a value between 1 and 10\"\"\")"
      ],
      "metadata": {
        "colab": {
          "base_uri": "https://localhost:8080/"
        },
        "id": "TGr6_04ppVLe",
        "outputId": "e8659a90-46c7-48f4-98c5-89aec68474b2"
      },
      "execution_count": null,
      "outputs": [
        {
          "output_type": "stream",
          "name": "stdout",
          "text": [
            "Passes test 1 :) random_number_sum generates random numbers!\n",
            "Passes test 2 :) random_number_sum generates numbers within the correct range\n"
          ]
        }
      ]
    },
    {
      "cell_type": "code",
      "execution_count": null,
      "metadata": {
        "id": "NKp7dAZRdfkg",
        "colab": {
          "base_uri": "https://localhost:8080/"
        },
        "outputId": "371af8a3-3e6a-48c2-baad-0b8dec032c10"
      },
      "outputs": [
        {
          "output_type": "execute_result",
          "data": {
            "text/plain": [
              "-6"
            ]
          },
          "metadata": {},
          "execution_count": 16
        }
      ],
      "source": [
        "def random_number_sum_bonus(num_ints: int):\n",
        "    # Define a variable to store the results in\n",
        "    result = 0 \n",
        "\n",
        "    # Find the result\n",
        "    for i in range(num_ints):\n",
        "        # Randomly generate 0 or 1\n",
        "        add = random.randint(0,1)\n",
        "        # Note: 0 evaluates to False and 1 evaluates to True for if else!\n",
        "        if add == 1:\n",
        "            result += random.randint(1, 10)\n",
        "        else:\n",
        "            result -= random.randint(1, 10)\n",
        "    \n",
        "    # Return result\n",
        "    return result\n",
        "\n",
        "random_number_sum_bonus(3)"
      ]
    },
    {
      "cell_type": "code",
      "source": [
        "#@title Tests for random_number_sum_bonus\n",
        "# Expected outputs:\n",
        "# Test for randomness\n",
        "random_num_list = []\n",
        "for i in range(100):\n",
        "  random_num_list.append(random_number_sum_bonus(3))\n",
        "\n",
        "if len(set(random_num_list)) != 1: \n",
        "  print(\"Passes test 1 :) random_number_sum_bonus generates random numbers!\")\n",
        "else:\n",
        "  print(\"Fails test 1 :( random_number_sum_bonus does not generate random numbers. Try again!\")\n",
        "\n",
        "# Test for result in range\n",
        "test_2_passed = True\n",
        "for i in range(300): \n",
        "  x = random_number_sum(2)\n",
        "  if x < -20 or x > 20:\n",
        "    test_2_passed = False\n",
        "    break\n",
        "if test_2_passed:\n",
        "  print(\"Passes test 2 :) random_number_sum_bonus generates numbers within the correct range\")\n",
        "else:\n",
        "  print(f\"\"\"Fails test 2 :( random_number_sum_bonus(2) generates {x}. \n",
        "Remember that each individual random number generated must have a value between 1 and 10.\n",
        "In addition, this function can either subtract or add each individual random number.\"\"\")\n",
        "  \n",
        "# Test for both negative and positive values generated\n",
        "negative_sums_possible = False\n",
        "positive_sums_possible = False\n",
        "for i in range(100):\n",
        "  x = random_number_sum_bonus(3)\n",
        "  if x < 0:\n",
        "    negative_sums_possible = True\n",
        "  elif x > 0:\n",
        "    positive_sums_possible = True\n",
        "\n",
        "  if negative_sums_possible and positive_sums_possible:\n",
        "    break\n",
        "\n",
        "if negative_sums_possible:\n",
        "  print(\"Passes test 3 :) random_number_sum_bonus can generate negative sums!\")\n",
        "else:\n",
        "  print(\"Fails test 3 :( random_number_sum_bonus unable to generate negative sums\")\n",
        "\n",
        "if positive_sums_possible:\n",
        "  print(\"Passes test 4 :) random_number_sum_bonus can generate positive sums!\")\n",
        "else:\n",
        "  print(\"Fails test 4 :( random_number_sum_bonus unable to generate postive sums\")\n",
        "\n",
        "# Test that the random sum generated can use addition and subtraction within the same run\n",
        "add_sub_possible = False\n",
        "for i in range(2000):\n",
        "  x = random_number_sum_bonus(10)\n",
        "  if x > -10 and x < 10:\n",
        "    add_sub_possible = True\n",
        "    break\n",
        "\n",
        "if add_sub_possible:\n",
        "  print(\"Passes test 5 :) random_number_sum_bonus randomly picks between addition and subtraction each time!\")\n",
        "else:\n",
        "  print(\"Fails test 5 :( random_number_sum_bonus unable to randomly pick between addition and subtraction\")"
      ],
      "metadata": {
        "colab": {
          "base_uri": "https://localhost:8080/"
        },
        "id": "fs7YjjodroGM",
        "outputId": "f9285bd2-3cf7-4052-dc65-81074408b639"
      },
      "execution_count": null,
      "outputs": [
        {
          "output_type": "stream",
          "name": "stdout",
          "text": [
            "Passes test 1 :) random_number_sum_bonus generates random numbers!\n",
            "Passes test 2 :) random_number_sum_bonus generates numbers within the correct range\n",
            "Passes test 3 :) random_number_sum_bonus can generate negative sums!\n",
            "Passes test 4 :) random_number_sum_bonus can generate positive sums!\n",
            "Passes test 5 :) random_number_sum_bonus randomly picks between addition and subtraction each time!\n"
          ]
        }
      ]
    },
    {
      "cell_type": "markdown",
      "metadata": {
        "id": "RmSwPyBadfkg"
      },
      "source": [
        "## Challenges"
      ]
    },
    {
      "cell_type": "markdown",
      "metadata": {
        "id": "I327O8Wxdfkh"
      },
      "source": [
        "### Christmas Tree Sample Code"
      ]
    },
    {
      "cell_type": "code",
      "execution_count": null,
      "metadata": {
        "id": "Ph3NApfwdfkh",
        "colab": {
          "base_uri": "https://localhost:8080/"
        },
        "outputId": "5603b74e-f0da-4c48-d96b-1269c28d1eca"
      },
      "outputs": [
        {
          "output_type": "stream",
          "name": "stdout",
          "text": [
            "               #\n",
            "              ###\n",
            "             #####\n",
            "            #######\n",
            "           #########\n",
            "          ###########\n",
            "         #############\n",
            "        ###############\n",
            "       #################\n",
            "      ###################\n",
            "     #####################\n",
            "    #######################\n",
            "   #########################\n",
            "  ###########################\n",
            " #############################\n",
            "               N\n"
          ]
        }
      ],
      "source": [
        "n = 15\n",
        "\n",
        "lines = []\n",
        "for i in range(n):\n",
        "    lines.append(\"#\"*(1+2*i))\n",
        "    \n",
        "for i in range(n):\n",
        "    lines[i] = \" \"*(n-i) + lines[i]\n",
        "    \n",
        "lines.append(\" \"*n + \"N\")\n",
        "\n",
        "for i in lines:\n",
        "    print(i)"
      ]
    },
    {
      "cell_type": "markdown",
      "metadata": {
        "id": "wLV8m8mTdfkh"
      },
      "source": [
        "### Modifications"
      ]
    },
    {
      "cell_type": "code",
      "execution_count": null,
      "metadata": {
        "id": "Va-fyYQvdfkh",
        "colab": {
          "base_uri": "https://localhost:8080/"
        },
        "outputId": "35fac2ff-c47a-43a1-9a03-cbb00ed47f84"
      },
      "outputs": [
        {
          "output_type": "stream",
          "name": "stdout",
          "text": [
            "          ++\n",
            "          /\\\n",
            "         /@@@\n",
            "        ///\\@@\n",
            "       @/@@@@@\\\n",
            "      @@@//@\\@\\\\\n",
            "     /@@@//\\\\@\\\\@\n",
            "    @//////\\\\\\\\\\\\\\\n",
            "   /@///@//\\\\\\@\\\\\\\\\n",
            "  @@//////@\\@\\@\\\\\\\\@\n",
            " ///////@@/@@@\\\\@\\\\\\\\\n",
            "          ||\n"
          ]
        }
      ],
      "source": [
        "import random\n",
        "\n",
        "n = 10\n",
        "nbells = 50\n",
        "\n",
        "lines = [\"\"]*n\n",
        "for i in range(n):\n",
        "    lines[i] += \"/\"*i\n",
        "    \n",
        "for i in range(n):\n",
        "    lines[i] += \"/\\\\\"\n",
        "    \n",
        "for i in range(n):\n",
        "    lines[i] += \"\\\\\"*i\n",
        "    \n",
        "for i in range(n):\n",
        "    lines[i] = \" \"*(n-i) + lines[i]\n",
        "    \n",
        "lines.append(\" \"*n + \"||\")\n",
        "\n",
        "for i in range(nbells):\n",
        "    idx  = random.randint(1,n-1)\n",
        "    idx2 = random.randint(0,2*idx+1) + (n-idx)\n",
        "    line = lines[idx]\n",
        "    line = list(line)\n",
        "    line[idx2] = \"@\"\n",
        "    lines[idx] = \"\".join(line)\n",
        "\n",
        "lines = [\" \"*n + \"++\"] + lines\n",
        "    \n",
        "for i in lines:\n",
        "    print(i)"
      ]
    },
    {
      "cell_type": "markdown",
      "metadata": {
        "id": "o3VLtbWwdfkh"
      },
      "source": [
        "## Fibonacci Sample Code"
      ]
    },
    {
      "cell_type": "code",
      "execution_count": null,
      "metadata": {
        "id": "MkoI5h4Rdfkh",
        "colab": {
          "base_uri": "https://localhost:8080/"
        },
        "outputId": "3f44fcaf-cfc1-4410-c3fe-7867ad427696"
      },
      "outputs": [
        {
          "output_type": "stream",
          "name": "stdout",
          "text": [
            "[1, 1, 2, 3, 5, 8, 13, 21, 34, 55]\n"
          ]
        }
      ],
      "source": [
        "# Fibonacci Function\n",
        "def fibonacci_fun(terms_num):\n",
        "    # List to store results in\n",
        "    fib_res = []\n",
        "    for i in range(terms_num):\n",
        "        if i == 0 or i == 1:\n",
        "            fib_res.append(1)\n",
        "        else:\n",
        "            prev_val_a = fib_res[i - 1] # Get the last value\n",
        "            prev_val_b = fib_res[i - 2] # Get the 2nd last value\n",
        "            fib_res.append(prev_val_a + prev_val_b) # Add the new value to the list\n",
        "    return fib_res\n",
        "\n",
        "print(fibonacci_fun(10))"
      ]
    },
    {
      "cell_type": "code",
      "source": [
        "# Alternative solution with recursion\n",
        "def fibonacci_fun(terms_num):  \n",
        "    # Base cases:\n",
        "    if terms_num == 0:\n",
        "      return []\n",
        "    elif terms_num == 1:\n",
        "      return [1]\n",
        "    elif terms_num == 2:\n",
        "      return [1, 1]\n",
        "    # Recursive step\n",
        "    else:\n",
        "      prev_terms = fibonacci_fun(terms_num-1)\n",
        "      # Add the newly calculated term\n",
        "      prev_terms.append(prev_terms[-1] + prev_terms[-2])\n",
        "      # Return the result\n",
        "      return prev_terms\n",
        "\n",
        "print(fibonacci_fun(10))"
      ],
      "metadata": {
        "colab": {
          "base_uri": "https://localhost:8080/"
        },
        "id": "VvaL_wvVvFQ7",
        "outputId": "00dfbbe7-6a8e-4bb4-b1b6-fe9396a582d2"
      },
      "execution_count": null,
      "outputs": [
        {
          "output_type": "stream",
          "name": "stdout",
          "text": [
            "[1, 1, 2, 3, 5, 8, 13, 21, 34, 55]\n"
          ]
        }
      ]
    },
    {
      "cell_type": "code",
      "source": [
        "#@title Tests for fibonacci_fun\n",
        "# Expected outputs:\n",
        "if fibonacci_fun(5) == [1, 1, 2, 3, 5]:\n",
        "  print(\"Passes test 1 :) fibonacci_fun(5) == [1, 1, 2, 3, 5]\")\n",
        "else:\n",
        "  print(f\"\"\"Fails test 1 :( Expected result from fibonacci_fun(5) is [1, 1, 2, 3, 5].\n",
        "However, the current result is: {fibonacci_fun(5)}. Try again!\"\"\")\n",
        "\n",
        "print(\"\\n\")\n",
        "\n",
        "if fibonacci_fun(0) == []:\n",
        "  print(\"Passes test 2 :) fibonacci_fun(0) == []\")\n",
        "else:\n",
        "  print(f\"\"\"Fails test 2 :( Expected result from fibonacci_fun(0) is [].\n",
        "However, the current result is: {fibonacci_fun(0)}. Try again!\"\"\")\n",
        "  \n",
        "print(\"\\n\")\n",
        "\n",
        "if fibonacci_fun(1) == [1]:\n",
        "  print(\"Passes test 3 :) fibonacci_fun(1) == [1]\")\n",
        "else:\n",
        "  print(f\"\"\"Fails test 3 :( Expected result from fibonacci_fun(1)) is [1].\n",
        "However, the current result is: {fibonacci_fun(1)}. Try again!\"\"\")\n",
        "\n",
        "print(\"\\n\")\n",
        "\n",
        "if fibonacci_fun(2) == [1, 1]:\n",
        "  print(\"Passes test 4 :) fibonacci_fun(2) == [1, 1]\")\n",
        "else:\n",
        "  print(f\"\"\"Fails test 4 :( Expected result from fibonacci_fun(2)) is [1, 1].\n",
        "However, the current result is: {fibonacci_fun(2)}. Try again!\"\"\")\n"
      ],
      "metadata": {
        "colab": {
          "base_uri": "https://localhost:8080/"
        },
        "id": "T8U-xn86uVL1",
        "outputId": "c22bf443-ccef-45a5-dd65-478ca73366fe"
      },
      "execution_count": null,
      "outputs": [
        {
          "output_type": "stream",
          "name": "stdout",
          "text": [
            "Passes test 1 :) fibonacci_fun(5) == [1, 1, 2, 3, 5]\n",
            "\n",
            "\n",
            "Passes test 2 :) fibonacci_fun(0) == []\n",
            "\n",
            "\n",
            "Passes test 3 :) fibonacci_fun(1) == [1]\n",
            "\n",
            "\n",
            "Passes test 4 :) fibonacci_fun(2) == [1, 1]\n"
          ]
        }
      ]
    },
    {
      "cell_type": "code",
      "execution_count": null,
      "metadata": {
        "id": "SCHiryFHdfkh",
        "colab": {
          "base_uri": "https://localhost:8080/"
        },
        "outputId": "d6d9b66b-6049-4c5d-e1eb-fc06c26c637b"
      },
      "outputs": [
        {
          "output_type": "stream",
          "name": "stdout",
          "text": [
            "144\n"
          ]
        }
      ],
      "source": [
        "# Finding first term larger than 100\n",
        "for term in fibonacci_fun(13):\n",
        "    if term > 100:\n",
        "        print(term)\n",
        "        break"
      ]
    },
    {
      "cell_type": "code",
      "execution_count": null,
      "metadata": {
        "id": "jgNUl9pzdfkh",
        "colab": {
          "base_uri": "https://localhost:8080/"
        },
        "outputId": "7707f416-daa9-41f7-fa3a-1e4ba0ecda45"
      },
      "outputs": [
        {
          "output_type": "stream",
          "name": "stdout",
          "text": [
            "17710\n"
          ]
        }
      ],
      "source": [
        "# Finding sum of first 20 terms\n",
        "\n",
        "fib_sum = 0\n",
        "for term in fibonacci_fun(20):\n",
        "    fib_sum += term\n",
        "print(fib_sum)"
      ]
    },
    {
      "cell_type": "code",
      "execution_count": null,
      "metadata": {
        "id": "ztaV8TQQdfkh",
        "colab": {
          "base_uri": "https://localhost:8080/"
        },
        "outputId": "68779203-f347-4730-9202-8b686c8bfd9a"
      },
      "outputs": [
        {
          "output_type": "stream",
          "name": "stdout",
          "text": [
            "15004\n"
          ]
        }
      ],
      "source": [
        "# Finding largest factor for 25th term except for itself\n",
        "\n",
        "largest_factor = 1 # variable to store largest factor\n",
        "fib_term_25 = fibonacci_fun(25)[24] # the 25th \n",
        "\n",
        "for number in range(fib_term_25):\n",
        "    if fib_term_25 % (number + 1) == 0 and fib_term_25 != (number + 1):\n",
        "        largest_factor = number\n",
        "print(largest_factor)"
      ]
    }
  ],
  "metadata": {
    "kernelspec": {
      "display_name": "Python 3 (ipykernel)",
      "language": "python",
      "name": "python3"
    },
    "language_info": {
      "codemirror_mode": {
        "name": "ipython",
        "version": 3
      },
      "file_extension": ".py",
      "mimetype": "text/x-python",
      "name": "python",
      "nbconvert_exporter": "python",
      "pygments_lexer": "ipython3",
      "version": "3.9.13"
    },
    "colab": {
      "provenance": []
    }
  },
  "nbformat": 4,
  "nbformat_minor": 0
}