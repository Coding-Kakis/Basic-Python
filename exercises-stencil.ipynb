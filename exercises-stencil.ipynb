{
 "cells": [
  {
   "cell_type": "markdown",
   "metadata": {},
   "source": [
    "## Summing 2 Numbers"
   ]
  },
  {
   "cell_type": "code",
   "execution_count": null,
   "metadata": {},
   "outputs": [],
   "source": [
    "# Define the two numbers\n",
    "n1 = ...\n",
    "n2 = ...\n",
    "\n",
    "# Compute the addition\n",
    "add = ...\n",
    "\n",
    "# Print the results\n",
    "print(\"Add:\", add)"
   ]
  },
  {
   "cell_type": "markdown",
   "metadata": {},
   "source": [
    "### Bonus"
   ]
  },
  {
   "cell_type": "code",
   "execution_count": null,
   "metadata": {},
   "outputs": [],
   "source": [
    "# Define the two numbers\n",
    "n1 = ...\n",
    "n2 = ...\n",
    "\n",
    "# Compute the subtraction\n",
    "sub = ...\n",
    "\n",
    "# Compute the multiplication\n",
    "mul = ...\n",
    "\n",
    "# Compute the division\n",
    "div = ...\n",
    "\n",
    "# Print the results\n",
    "print(\"Sub:\", sub)\n",
    "print(\"Mul:\", mul)\n",
    "print(\"Div:\", div)"
   ]
  },
  {
   "cell_type": "markdown",
   "metadata": {},
   "source": [
    "## Combine Two Strings"
   ]
  },
  {
   "cell_type": "code",
   "execution_count": null,
   "metadata": {},
   "outputs": [],
   "source": [
    "# Define the strings\n",
    "str1 = ...\n",
    "str2 = ...\n",
    "\n",
    "# Combine the strings together\n",
    "combined_str = ...\n",
    "\n",
    "# Print result\n",
    "print(\"Combined string:\", combined_str)"
   ]
  },
  {
   "cell_type": "markdown",
   "metadata": {},
   "source": [
    "### Bonus"
   ]
  },
  {
   "cell_type": "code",
   "execution_count": null,
   "metadata": {},
   "outputs": [],
   "source": [
    "# Define the strings\n",
    "str1 = ...\n",
    "str2 = ...\n",
    "\n",
    "# Combine the strings with a space in between\n",
    "combined_str = ...\n",
    "\n",
    "# Print result\n",
    "print(\"Combined string:\", combined_str)"
   ]
  },
  {
   "cell_type": "markdown",
   "metadata": {},
   "source": [
    "## Small Big Result\n"
   ]
  },
  {
   "cell_type": "code",
   "execution_count": 10,
   "metadata": {},
   "outputs": [],
   "source": [
    "def small_big_result(n1: int, n2: int) -> bool:\n",
    "    pass\n",
    "    # Define the two numbers\n",
    "    n1 = ...\n",
    "    n2 = ...\n",
    "\n",
    "    # Compute the addition\n",
    "    result = ...\n",
    "\n",
    "    # Check if addition within range\n",
    "    ...\n",
    "    \n",
    "small_big_result(10, 20)"
   ]
  },
  {
   "cell_type": "markdown",
   "metadata": {},
   "source": [
    "### Bonus"
   ]
  },
  {
   "cell_type": "code",
   "execution_count": 9,
   "metadata": {},
   "outputs": [
    {
     "name": "stdout",
     "output_type": "stream",
     "text": [
      "Result: Ellipsis\n",
      "Comment: Ellipsis\n"
     ]
    }
   ],
   "source": [
    "def small_big_result_bonus(n1: int, n2: int):\n",
    "    pass\n",
    "    # Compute the addition\n",
    "    result = ...\n",
    "\n",
    "    # Check even or odd\n",
    "    ...\n",
    "    \n",
    "    # Print result\n",
    "    print(\"Result:\", result)\n",
    "\n",
    "    # Print comment\n",
    "    print(\"Comment:\", ...)\n",
    "\n",
    "small_big_result_bonus(10, 20)"
   ]
  },
  {
   "cell_type": "markdown",
   "metadata": {},
   "source": [
    "## Combine Multiple Strings"
   ]
  },
  {
   "cell_type": "code",
   "execution_count": 7,
   "metadata": {},
   "outputs": [
    {
     "name": "stdout",
     "output_type": "stream",
     "text": [
      "Ellipsis\n"
     ]
    }
   ],
   "source": [
    "def combine_strings(strings: list[str]):\n",
    "    pass\n",
    "    # Combine strings together\n",
    "    ...\n",
    "    # Print result\n",
    "    print(...)\n",
    "    \n",
    "combine_strings([\"Hello\", \"World\", \"Python\"])"
   ]
  },
  {
   "cell_type": "markdown",
   "metadata": {},
   "source": [
    "### Bonus"
   ]
  },
  {
   "cell_type": "code",
   "execution_count": 6,
   "metadata": {},
   "outputs": [
    {
     "name": "stdout",
     "output_type": "stream",
     "text": [
      "Ellipsis\n"
     ]
    }
   ],
   "source": [
    "def combine_strings_bonus(strings: list[str]):\n",
    "    pass\n",
    "    # Combine strings together into one string\n",
    "    ...\n",
    "    # ########################################## #\n",
    "    # Split combined string into list of 4 chars #\n",
    "    # ########################################## #\n",
    "\n",
    "    # idx is the current index of the string\n",
    "    ...\n",
    "    # four_list will store the list of 4 chars\n",
    "    ...\n",
    "    # Iterate while idx is smaller than length\n",
    "    # of combined_str\n",
    "    ...\n",
    "        # Get 4 chars\n",
    "        # Add it to four_list\n",
    "        # Increment our pointer\n",
    "\n",
    "    # Combine `four_list` into one string\n",
    "    ...\n",
    "    # Print result\n",
    "    print(...)\n",
    "    \n",
    "combine_strings_bonus([\"Hello\", \"World\", \"Python\"])"
   ]
  },
  {
   "cell_type": "code",
   "execution_count": null,
   "metadata": {},
   "outputs": [],
   "source": [
    "# Optional: \n",
    "# Alternate solution with \n",
    "# tricks you can find online\n",
    "pass"
   ]
  },
  {
   "cell_type": "markdown",
   "metadata": {},
   "source": [
    "## Random Number Manipulation"
   ]
  },
  {
   "cell_type": "code",
   "execution_count": null,
   "metadata": {},
   "outputs": [],
   "source": [
    "import random\n",
    "\n",
    "def random_number_sum(num_ints: int):\n",
    "    pass\n",
    "    # Define a variable to store the results in\n",
    "\n",
    "    # Find the result\n",
    "\n",
    "    # Print result\n",
    "    print(...)\n",
    "\n",
    "random_number_sum(3)"
   ]
  },
  {
   "cell_type": "code",
   "execution_count": null,
   "metadata": {},
   "outputs": [],
   "source": [
    "def random_number_sum_bonus(num_ints: int):\n",
    "    pass\n",
    "    # Define a variable to store the results in\n",
    "\n",
    "    # Find the result\n",
    "\n",
    "    # Note: 0 evaluates to False and 1 evaluates to True for if else!\n",
    "\n",
    "    # Print result\n",
    "    print(...)\n",
    "    \n",
    "random_number_sum_bonus(3)"
   ]
  },
  {
   "cell_type": "markdown",
   "metadata": {},
   "source": [
    "## Challenges"
   ]
  },
  {
   "cell_type": "markdown",
   "metadata": {},
   "source": [
    "### Christmas Tree Sample Code"
   ]
  },
  {
   "cell_type": "code",
   "execution_count": null,
   "metadata": {},
   "outputs": [],
   "source": [
    "n = 15\n",
    "\n",
    "lines = []\n",
    "for i in range(n):\n",
    "    lines.append(\"#\"*(1+2*i))\n",
    "    \n",
    "for i in range(n):\n",
    "    lines[i] = \" \"*(n-i) + lines[i]\n",
    "    \n",
    "lines.append(\" \"*n + \"N\")\n",
    "\n",
    "for i in lines:\n",
    "    print(i)"
   ]
  },
  {
   "cell_type": "markdown",
   "metadata": {},
   "source": [
    "### Possible Modifications"
   ]
  },
  {
   "cell_type": "code",
   "execution_count": null,
   "metadata": {},
   "outputs": [],
   "source": [
    "import random\n",
    "\n",
    "\n",
    "n = 10\n",
    "nbells = 50\n",
    "\n",
    "lines = [\"\"]*n\n",
    "# Make a thicker base of \"|\" characters\n",
    "# Add 2 \"+\" characters to the top of the tree\n",
    "\n",
    "# Bonus\n",
    "# Change '#' characters to '/\\' characters \n",
    "# Hint: Every row should have '/' characters on the left that is equal to the row number and vice versa\n",
    "\n",
    "# Add bells ('@' characters)\n",
    "# Hint: You can change characters in a string by referring to that index in the string\n",
    "\n",
    "for i in lines:\n",
    "    print(i)"
   ]
  },
  {
   "cell_type": "markdown",
   "metadata": {},
   "source": [
    "## Fibonacci Sample Code"
   ]
  },
  {
   "cell_type": "code",
   "execution_count": null,
   "metadata": {},
   "outputs": [],
   "source": [
    "# Fibonacci Function\n",
    "def fibonacci_fun(num_terms):\n",
    "    # List to store results in\n",
    "    fib_res = []\n",
    "    # Hint: How can you get the last two results from the list?\n",
    "    return fib_res\n",
    "\n",
    "print(fibonacci_fun(10))"
   ]
  },
  {
   "cell_type": "code",
   "execution_count": null,
   "metadata": {},
   "outputs": [],
   "source": [
    "# Finding first term larger than 100\n",
    "..."
   ]
  },
  {
   "cell_type": "code",
   "execution_count": null,
   "metadata": {},
   "outputs": [],
   "source": [
    "# Finding sum of first 20 terms\n",
    "..."
   ]
  },
  {
   "cell_type": "code",
   "execution_count": null,
   "metadata": {},
   "outputs": [],
   "source": [
    "# Finding largest factor for 25th term except for itself\n",
    "# Hint: How do you know that a number is a factor of another number?\n",
    "..."
   ]
  }
 ],
 "metadata": {
  "kernelspec": {
   "display_name": "Python 3 (ipykernel)",
   "language": "python",
   "name": "python3"
  },
  "language_info": {
   "codemirror_mode": {
    "name": "ipython",
    "version": 3
   },
   "file_extension": ".py",
   "mimetype": "text/x-python",
   "name": "python",
   "nbconvert_exporter": "python",
   "pygments_lexer": "ipython3",
   "version": "3.9.13"
  }
 },
 "nbformat": 4,
 "nbformat_minor": 4
}
