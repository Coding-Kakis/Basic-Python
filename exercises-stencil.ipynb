{
  "cells": [
    {
      "cell_type": "markdown",
      "metadata": {
        "id": "C3xfjKH5l-yX"
      },
      "source": [
        "**Quick Colab Tips:**\n",
        "\n",
        "*   Make sure you **create a copy** of the Colab before you start coding!!! (File->Save a copy in Drive). If you don't do this, you will lose everything when you close the page :(\n",
        "*   Make sure you hit every play button that you need in previous cells, so that everything you need is defined.\n",
        "*   Alternatively, you can click Runtime and you will find \"Run Before\", \"Run After\", or \"Run All\".\n",
        "*   When you reload the page, the runtime restarts and all variables in the environment are cleared, so you will need to re-run cells.\n",
        "*   If you make changes in an earlier cell, remember to re-run the cell so that the changes are reflected."
      ]
    },
    {
      "cell_type": "markdown",
      "metadata": {
        "id": "5ZillFh8jvWI"
      },
      "source": [
        "## Summing 2 Numbers"
      ]
    },
    {
      "cell_type": "code",
      "execution_count": null,
      "metadata": {
        "id": "BGfEMPE-jvWL"
      },
      "outputs": [],
      "source": [
        "# Define the two numbers\n",
        "n1 = ...\n",
        "n2 = ...\n",
        "\n",
        "# Compute the addition\n",
        "add = ...\n",
        "\n",
        "# Print the results\n",
        "print(\"Add:\", add)"
      ]
    },
    {
      "cell_type": "markdown",
      "metadata": {
        "id": "6eCfP9_5jvWN"
      },
      "source": [
        "### Bonus"
      ]
    },
    {
      "cell_type": "code",
      "execution_count": null,
      "metadata": {
        "id": "DzGtFT60jvWO"
      },
      "outputs": [],
      "source": [
        "# Define the two numbers\n",
        "n1 = ...\n",
        "n2 = ...\n",
        "\n",
        "# Compute the subtraction\n",
        "sub = ...\n",
        "\n",
        "# Compute the multiplication\n",
        "mul = ...\n",
        "\n",
        "# Compute the division\n",
        "div = ...\n",
        "\n",
        "# Print the results\n",
        "print(\"Sub:\", sub)\n",
        "print(\"Mul:\", mul)\n",
        "print(\"Div:\", div)"
      ]
    },
    {
      "cell_type": "markdown",
      "metadata": {
        "id": "5iPnGraFjvWP"
      },
      "source": [
        "## Combine Two Strings"
      ]
    },
    {
      "cell_type": "code",
      "execution_count": null,
      "metadata": {
        "id": "_XpjqFNXjvWP"
      },
      "outputs": [],
      "source": [
        "# Define the strings\n",
        "str1 = ...\n",
        "str2 = ...\n",
        "\n",
        "# Combine the strings together\n",
        "combined_str = ...\n",
        "\n",
        "# Print result\n",
        "print(\"Combined string:\", combined_str)"
      ]
    },
    {
      "cell_type": "markdown",
      "metadata": {
        "id": "WIb5ZoOijvWQ"
      },
      "source": [
        "### Bonus"
      ]
    },
    {
      "cell_type": "code",
      "execution_count": null,
      "metadata": {
        "id": "AhTpZ6iqjvWQ"
      },
      "outputs": [],
      "source": [
        "# Define the strings\n",
        "str1 = ...\n",
        "str2 = ...\n",
        "\n",
        "# Combine the strings with a space in between\n",
        "combined_str = ...\n",
        "\n",
        "# Print result\n",
        "print(\"Combined string:\", combined_str)"
      ]
    },
    {
      "cell_type": "markdown",
      "metadata": {
        "id": "oYPKDfsOjvWR"
      },
      "source": [
        "## Small Big Result\n"
      ]
    },
    {
      "cell_type": "code",
      "execution_count": null,
      "metadata": {
        "id": "3O20MKWRjvWR"
      },
      "outputs": [],
      "source": [
        "def small_big_result(n1: int, n2: int) -> bool:\n",
        "    pass\n",
        "    # Define the two numbers\n",
        "    n1 = ...\n",
        "    n2 = ...\n",
        "\n",
        "    # Compute the addition\n",
        "    result = ...\n",
        "\n",
        "    # Check if addition within range\n",
        "    ...\n",
        "\n",
        "    # Return the result\n",
        "    ...\n",
        "    \n",
        "small_big_result(10, 20)"
      ]
    },
    {
      "cell_type": "code",
      "source": [
        "#@title Tests for small_big_result\n",
        "# Expected outputs:\n",
        "if small_big_result(10, 20) == 30:\n",
        "  print(\"Passes test 1 :) small_big_result(10, 20) == 30\")\n",
        "else:\n",
        "  print(f\"Fails test 1 :( Expected result from small_big_result(10, 20) is 30. However, the current result is {small_big_result(10, 20)}. Try again!\")\n",
        "\n",
        "print(\"\\n\")\n",
        "\n",
        "if small_big_result(30, 25) == \"Out of range\":\n",
        "  print(\"Passes test 2 :) small_big_result(30, 25) == \\\"Out of range\\\"\")\n",
        "else:\n",
        "  print(f\"Fails test 2 :( Expected result from small_big_result(30, 25) is \\\"Out of range\\\". However, the current result is {small_big_result(30, 25)}. Try again!\")\n",
        "\n",
        "print(\"\\n\")\n",
        "\n",
        "if small_big_result(70, 30) == 100:\n",
        "  print(\"Passes test 3 :) small_big_result(70, 30) == 100\")\n",
        "else:\n",
        "  print(f\"Fails test 3 :( Expected result from small_big_result(70, 30) is 100. However, the current result is {small_big_result(70, 30)}. Try again!\")"
      ],
      "metadata": {
        "id": "GjOK3mZFdrsw",
        "cellView": "form"
      },
      "execution_count": null,
      "outputs": []
    },
    {
      "cell_type": "markdown",
      "metadata": {
        "id": "gvozkzBEjvWS"
      },
      "source": [
        "### Bonus"
      ]
    },
    {
      "cell_type": "code",
      "execution_count": null,
      "metadata": {
        "id": "dT6N1GnCjvWT"
      },
      "outputs": [],
      "source": [
        "def small_big_result_bonus(n1: int, n2: int):\n",
        "    pass\n",
        "    # Compute the addition\n",
        "    result = ...\n",
        "\n",
        "    # Check even or odd\n",
        "    ...\n",
        "    \n",
        "    # Print result\n",
        "    print(\"Result:\", result)\n",
        "\n",
        "    # Print comment\n",
        "    print(\"Comment:\", ...)\n",
        "\n",
        "small_big_result_bonus(10, 20)"
      ]
    },
    {
      "cell_type": "code",
      "source": [
        "#@title Tests for small_big_result_bonus\n",
        "# Expected outputs:\n",
        "print(\"small_big_result_bonus test 1: Even number result\")\n",
        "small_big_result_bonus(10, 20)\n",
        "print(\"\\n\")\n",
        "print(\"small_big_result_bonus test 2: Odd number result\")\n",
        "small_big_result_bonus(30, 25)"
      ],
      "metadata": {
        "id": "VS_LnR2BkyaL",
        "cellView": "form"
      },
      "execution_count": null,
      "outputs": []
    },
    {
      "cell_type": "code",
      "source": [
        "#@title Check your output above with this cell! If they match, your implementation is most likely correct!\n",
        "print(\"small_big_result_bonus test 1: Even number result\")\n",
        "print(\"Result: 30\")\n",
        "print(\"Comment: Even Number\")\n",
        "print(\"\\n\")\n",
        "print(\"small_big_result_bonus test 2: Odd number result\")\n",
        "print(\"Result: 55\")\n",
        "print(\"Comment: Odd Number\")"
      ],
      "metadata": {
        "colab": {
          "base_uri": "https://localhost:8080/"
        },
        "cellView": "form",
        "id": "6vrNnq5tlgZr",
        "outputId": "30839198-d939-41a2-edad-c6c6040e74fd"
      },
      "execution_count": null,
      "outputs": [
        {
          "output_type": "stream",
          "name": "stdout",
          "text": [
            "small_big_result_bonus test 1: Even number result\n",
            "Result: 30\n",
            "Comment: Even Number\n",
            "\n",
            "\n",
            "small_big_result_bonus test 2: Odd number result\n",
            "Result: 55\n",
            "Comment: Odd Number\n"
          ]
        }
      ]
    },
    {
      "cell_type": "markdown",
      "metadata": {
        "id": "ophJQsB0jvWV"
      },
      "source": [
        "## Combine Multiple Strings"
      ]
    },
    {
      "cell_type": "code",
      "execution_count": null,
      "metadata": {
        "id": "y05ipR28jvWV"
      },
      "outputs": [],
      "source": [
        "def combine_strings(strings: list[str]):\n",
        "    pass\n",
        "    # Combine strings together\n",
        "    ...\n",
        "    \n",
        "    # Return the result\n",
        "    ...\n",
        "    \n",
        "combine_strings([\"Hello\", \"World\", \"Python\"])"
      ]
    },
    {
      "cell_type": "code",
      "source": [
        "#@title Tests for combine_strings\n",
        "# Expected outputs:\n",
        "if combine_strings([\"Hello\", \"World\", \"Python\"]) == \"HelloWorldPython\":\n",
        "  print(\"Passes test 1 :) combine_strings([\\\"Hello\\\", \\\"World\\\", \\\"Python\\\"]) == \\\"HelloWorldPython\\\"\")\n",
        "else:\n",
        "  print(f\"\"\"Fails test 1 :( Expected result from combine_strings([\\\"Hello\\\", \\\"World\\\", \\\"Python\\\"]) is \\\"HelloWorldPython\\\".\n",
        "However, the current result is: {combine_strings([\"Hello\", \"World\", \"Python\"])}. Try again!\"\"\")\n",
        "\n",
        "print(\"\\n\")\n",
        "\n",
        "if combine_strings([]) == \"\":\n",
        "  print(\"Passes test 2 :) combine_strings([]) == \\\"\\\"\")\n",
        "else:\n",
        "  print(f\"\"\"Fails test 2 :( Expected result from combine_strings([]) is \\\"\\\".\n",
        "However, the current result is: {combine_strings([])}. Try again!\"\"\")"
      ],
      "metadata": {
        "id": "6t4kWz-jmN05",
        "cellView": "form"
      },
      "execution_count": null,
      "outputs": []
    },
    {
      "cell_type": "markdown",
      "metadata": {
        "id": "BNrqtEEujvWW"
      },
      "source": [
        "### Bonus"
      ]
    },
    {
      "cell_type": "code",
      "execution_count": null,
      "metadata": {
        "id": "yyxcHrwvjvWW"
      },
      "outputs": [],
      "source": [
        "def combine_strings_bonus(strings: list[str]):\n",
        "    pass\n",
        "    # Combine strings together into one string\n",
        "    ...\n",
        "    # ########################################## #\n",
        "    # Split combined string into list of 4 chars #\n",
        "    # ########################################## #\n",
        "\n",
        "    # idx is the current index of the string\n",
        "    ...\n",
        "    # four_list will store the list of 4 chars\n",
        "    ...\n",
        "    # Iterate while idx is smaller than length\n",
        "    # of combined_str\n",
        "    ...\n",
        "        # Get 4 chars\n",
        "        # Add it to four_list\n",
        "        # Increment our pointer\n",
        "\n",
        "    # Combine `four_list` into one string\n",
        "    ...\n",
        "    \n",
        "    # Return the result\n",
        "    ...\n",
        "    \n",
        "combine_strings_bonus([\"Hello\", \"World\", \"Python\"])"
      ]
    },
    {
      "cell_type": "code",
      "source": [
        "#@title Tests for combine_strings_bonus\n",
        "# Expected outputs:\n",
        "if combine_strings_bonus([\"Hello\", \"World\", \"Python\"]) == \"Hell oWor ldPy thon\":\n",
        "  print(\"Passes test 1 :) combine_strings_bonus([\\\"Hello\\\", \\\"World\\\", \\\"Python\\\"]) == \\\"Hell oWor ldPy thon\\\"\")\n",
        "else:\n",
        "  print(f\"\"\"Fails test 1 :( Expected result from combine_strings_bonus([\\\"Hello\\\", \\\"World\\\", \\\"Python\\\"]) is \\\"Hell oWor ldPy thon\\\".\n",
        "However, the current result is: {combine_strings_bonus([\"Hello\", \"World\", \"Python\"])}. Try again!\"\"\")\n",
        "\n",
        "print(\"\\n\")\n",
        "\n",
        "if combine_strings_bonus([]) == \"\":\n",
        "  print(\"Passes test 2 :) combine_strings_bonus([]) == \\\"\\\"\")\n",
        "else:\n",
        "  print(f\"\"\"Fails test 2 :( Expected result from combine_strings_bonus([]) is \\\"\\\".\n",
        "However, the current result is: {combine_strings_bonus([])}. Try again!\"\"\")\n",
        "  \n",
        "print(\"\\n\")\n",
        "\n",
        "if combine_strings_bonus([\"The\", \"brown\", \"fox\"]) == \"Theb rown fox\":\n",
        "  print(\"Passes test 3 :) combine_strings_bonus([\\\"The\\\", \\\"brown\\\", \\\"fox\\\"]) == \\\"Theb rown fox\\\"\")\n",
        "else:\n",
        "  print(f\"\"\"Fails test 3 :( Expected result from combine_strings_bonus([\\\"The\\\", \\\"brown\\\", \\\"fox\\\"]) is \\\"Theb rown fox\\\".\n",
        "However, the current result is: {combine_strings_bonus([\"The\", \"brown\", \"fox\"])}. Try again!\"\"\")\n",
        "   "
      ],
      "metadata": {
        "id": "WsmOgTKAnf1v",
        "cellView": "form"
      },
      "execution_count": null,
      "outputs": []
    },
    {
      "cell_type": "markdown",
      "metadata": {
        "id": "5cabF0csjvWX"
      },
      "source": [
        "## Random Number Manipulation"
      ]
    },
    {
      "cell_type": "code",
      "execution_count": null,
      "metadata": {
        "id": "6xYz0m6ijvWY"
      },
      "outputs": [],
      "source": [
        "import random\n",
        "\n",
        "def random_number_sum(num_ints: int):\n",
        "    pass\n",
        "    # Define a variable to store the results in\n",
        "\n",
        "    # Find the result\n",
        "\n",
        "    # Return the result\n",
        "    ...\n",
        "\n",
        "random_number_sum(3)"
      ]
    },
    {
      "cell_type": "code",
      "source": [
        "#@title Tests for random_number_sum\n",
        "# Expected outputs:\n",
        "# Test for randomness\n",
        "random_num_list = []\n",
        "for i in range(100):\n",
        "  random_num_list.append(random_number_sum(3))\n",
        "\n",
        "if len(set(random_num_list)) != 1: \n",
        "  print(\"Passes test 1 :) random_number_sum generates random numbers!\")\n",
        "else:\n",
        "  print(\"Fails test 1 :( random_number_sum does not generate random numbers. Try again!\")\n",
        "\n",
        "# Test for result in range\n",
        "test_2_passed = True\n",
        "for i in range(300): \n",
        "  x = random_number_sum(2)\n",
        "  if x < 2 or x > 20:\n",
        "    test_2_passed = False\n",
        "    break\n",
        "if test_2_passed:\n",
        "  print(\"Passes test 2 :) random_number_sum generates numbers within the correct range\")\n",
        "else:\n",
        "  print(f\"\"\"Fails test 2 :( random_number_sum(2) generates {x}. \n",
        "Remember that each individual random number generated must have a value between 1 and 10\"\"\")"
      ],
      "metadata": {
        "id": "TGr6_04ppVLe",
        "cellView": "form"
      },
      "execution_count": null,
      "outputs": []
    },
    {
      "cell_type": "code",
      "execution_count": null,
      "metadata": {
        "id": "gsJ8yTW5jvWY"
      },
      "outputs": [],
      "source": [
        "def random_number_sum_bonus(num_ints: int):\n",
        "    pass\n",
        "    # Define a variable to store the results in\n",
        "\n",
        "    # Find the result\n",
        "\n",
        "    # Note: 0 evaluates to False and 1 evaluates to True for if else!\n",
        "\n",
        "    # Return the result\n",
        "    ...\n",
        "    \n",
        "random_number_sum_bonus(3)"
      ]
    },
    {
      "cell_type": "code",
      "source": [
        "#@title Tests for random_number_sum_bonus\n",
        "# Expected outputs:\n",
        "# Test for randomness\n",
        "random_num_list = []\n",
        "for i in range(100):\n",
        "  random_num_list.append(random_number_sum_bonus(3))\n",
        "\n",
        "if len(set(random_num_list)) != 1: \n",
        "  print(\"Passes test 1 :) random_number_sum_bonus generates random numbers!\")\n",
        "else:\n",
        "  print(\"Fails test 1 :( random_number_sum_bonus does not generate random numbers. Try again!\")\n",
        "\n",
        "# Test for result in range\n",
        "test_2_passed = True\n",
        "for i in range(300): \n",
        "  x = random_number_sum(2)\n",
        "  if x < -20 or x > 20:\n",
        "    test_2_passed = False\n",
        "    break\n",
        "if test_2_passed:\n",
        "  print(\"Passes test 2 :) random_number_sum_bonus generates numbers within the correct range\")\n",
        "else:\n",
        "  print(f\"\"\"Fails test 2 :( random_number_sum_bonus(2) generates {x}. \n",
        "Remember that each individual random number generated must have a value between 1 and 10.\n",
        "In addition, this function can either subtract or add each individual random number.\"\"\")\n",
        "  \n",
        "# Test for both negative and positive values generated\n",
        "negative_sums_possible = False\n",
        "positive_sums_possible = False\n",
        "for i in range(100):\n",
        "  x = random_number_sum_bonus(3)\n",
        "  if x < 0:\n",
        "    negative_sums_possible = True\n",
        "  elif x > 0:\n",
        "    positive_sums_possible = True\n",
        "\n",
        "  if negative_sums_possible and positive_sums_possible:\n",
        "    break\n",
        "\n",
        "if negative_sums_possible:\n",
        "  print(\"Passes test 3 :) random_number_sum_bonus can generate negative sums!\")\n",
        "else:\n",
        "  print(\"Fails test 3 :( random_number_sum_bonus unable to generate negative sums\")\n",
        "\n",
        "if positive_sums_possible:\n",
        "  print(\"Passes test 4 :) random_number_sum_bonus can generate positive sums!\")\n",
        "else:\n",
        "  print(\"Fails test 4 :( random_number_sum_bonus unable to generate postive sums\")\n",
        "\n",
        "# Test that the random sum generated can use addition and subtraction within the same run\n",
        "add_sub_possible = False\n",
        "for i in range(2000):\n",
        "  x = random_number_sum_bonus(10)\n",
        "  if x > -10 and x < 10:\n",
        "    add_sub_possible = True\n",
        "    break\n",
        "\n",
        "if add_sub_possible:\n",
        "  print(\"Passes test 5 :) random_number_sum_bonus randomly picks between addition and subtraction each time!\")\n",
        "else:\n",
        "  print(\"Fails test 5 :( random_number_sum_bonus unable to randomly pick between addition and subtraction\")"
      ],
      "metadata": {
        "id": "fs7YjjodroGM",
        "cellView": "form"
      },
      "execution_count": null,
      "outputs": []
    },
    {
      "cell_type": "markdown",
      "metadata": {
        "id": "wRbTN1ixjvWZ"
      },
      "source": [
        "## Challenges"
      ]
    },
    {
      "cell_type": "markdown",
      "metadata": {
        "id": "-EFmpviIjvWZ"
      },
      "source": [
        "### Christmas Tree Sample Code"
      ]
    },
    {
      "cell_type": "code",
      "execution_count": null,
      "metadata": {
        "id": "ET1TYcPQjvWZ"
      },
      "outputs": [],
      "source": [
        "n = 15\n",
        "\n",
        "lines = []\n",
        "for i in range(n):\n",
        "    lines.append(\"#\"*(1+2*i))\n",
        "    \n",
        "for i in range(n):\n",
        "    lines[i] = \" \"*(n-i) + lines[i]\n",
        "    \n",
        "lines.append(\" \"*n + \"N\")\n",
        "\n",
        "for i in lines:\n",
        "    print(i)"
      ]
    },
    {
      "cell_type": "markdown",
      "metadata": {
        "id": "b9gEui7cjvWa"
      },
      "source": [
        "### Possible Modifications"
      ]
    },
    {
      "cell_type": "code",
      "execution_count": null,
      "metadata": {
        "id": "WVkSS5GujvWa"
      },
      "outputs": [],
      "source": [
        "import random\n",
        "\n",
        "\n",
        "n = 10\n",
        "nbells = 50\n",
        "\n",
        "lines = [\"\"]*n\n",
        "# Make a thicker base of \"|\" characters\n",
        "# Add 2 \"+\" characters to the top of the tree\n",
        "\n",
        "# Bonus\n",
        "# Change '#' characters to '/\\' characters \n",
        "# Hint: Every row should have '/' characters on the left that is equal to the row number and vice versa\n",
        "\n",
        "# Add bells ('@' characters)\n",
        "# Hint: You can change characters in a string by referring to that index in the string\n",
        "\n",
        "for i in lines:\n",
        "    print(i)"
      ]
    },
    {
      "cell_type": "markdown",
      "metadata": {
        "id": "dIDnL5k7jvWb"
      },
      "source": [
        "## Fibonacci Sample Code"
      ]
    },
    {
      "cell_type": "code",
      "execution_count": null,
      "metadata": {
        "id": "I9tWSZOWjvWb"
      },
      "outputs": [],
      "source": [
        "# Fibonacci Function\n",
        "def fibonacci_fun(num_terms):\n",
        "    # List to store results in\n",
        "    fib_res = []\n",
        "    # Hint: How can you get the last two results from the list?\n",
        "    return fib_res\n",
        "\n",
        "print(fibonacci_fun(10))"
      ]
    },
    {
      "cell_type": "code",
      "source": [
        "#@title Tests for fibonacci_fun\n",
        "# Expected outputs:\n",
        "if fibonacci_fun(5) == [1, 1, 2, 3, 5]:\n",
        "  print(\"Passes test 1 :) fibonacci_fun(5) == [1, 1, 2, 3, 5]\")\n",
        "else:\n",
        "  print(f\"\"\"Fails test 1 :( Expected result from fibonacci_fun(5) is [1, 1, 2, 3, 5].\n",
        "However, the current result is: {fibonacci_fun(5)}. Try again!\"\"\")\n",
        "\n",
        "print(\"\\n\")\n",
        "\n",
        "if fibonacci_fun(0) == []:\n",
        "  print(\"Passes test 2 :) fibonacci_fun(0) == []\")\n",
        "else:\n",
        "  print(f\"\"\"Fails test 2 :( Expected result from fibonacci_fun(0) is [].\n",
        "However, the current result is: {fibonacci_fun(0)}. Try again!\"\"\")\n",
        "  \n",
        "print(\"\\n\")\n",
        "\n",
        "if fibonacci_fun(1) == [1]:\n",
        "  print(\"Passes test 3 :) fibonacci_fun(1) == [1]\")\n",
        "else:\n",
        "  print(f\"\"\"Fails test 3 :( Expected result from fibonacci_fun(1)) is [1].\n",
        "However, the current result is: {fibonacci_fun(1)}. Try again!\"\"\")\n",
        "\n",
        "print(\"\\n\")\n",
        "\n",
        "if fibonacci_fun(2) == [1, 1]:\n",
        "  print(\"Passes test 4 :) fibonacci_fun(2) == [1, 1]\")\n",
        "else:\n",
        "  print(f\"\"\"Fails test 4 :( Expected result from fibonacci_fun(2)) is [1, 1].\n",
        "However, the current result is: {fibonacci_fun(2)}. Try again!\"\"\")\n"
      ],
      "metadata": {
        "id": "T8U-xn86uVL1",
        "cellView": "form"
      },
      "execution_count": null,
      "outputs": []
    },
    {
      "cell_type": "code",
      "execution_count": null,
      "metadata": {
        "id": "W9LHCahzjvWb"
      },
      "outputs": [],
      "source": [
        "# Finding first term larger than 100\n",
        "..."
      ]
    },
    {
      "cell_type": "code",
      "execution_count": null,
      "metadata": {
        "id": "XgfzWinLjvWc"
      },
      "outputs": [],
      "source": [
        "# Finding sum of first 20 terms\n",
        "..."
      ]
    },
    {
      "cell_type": "code",
      "execution_count": null,
      "metadata": {
        "id": "p1YTYkrSjvWc"
      },
      "outputs": [],
      "source": [
        "# Finding largest factor for 25th term except for itself\n",
        "# Hint: How do you know that a number is a factor of another number?\n",
        "..."
      ]
    }
  ],
  "metadata": {
    "kernelspec": {
      "display_name": "Python 3 (ipykernel)",
      "language": "python",
      "name": "python3"
    },
    "language_info": {
      "codemirror_mode": {
        "name": "ipython",
        "version": 3
      },
      "file_extension": ".py",
      "mimetype": "text/x-python",
      "name": "python",
      "nbconvert_exporter": "python",
      "pygments_lexer": "ipython3",
      "version": "3.9.13"
    },
    "colab": {
      "provenance": []
    }
  },
  "nbformat": 4,
  "nbformat_minor": 0
}