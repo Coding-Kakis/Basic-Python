{
 "cells": [
  {
   "cell_type": "markdown",
   "metadata": {},
   "source": [
    "## Summing 2 Numbers"
   ]
  },
  {
   "cell_type": "code",
   "execution_count": null,
   "metadata": {},
   "outputs": [],
   "source": [
    "# Define the two numbers\n",
    "n1 = ...\n",
    "n2 = ...\n",
    "\n",
    "# Compute the addition\n",
    "add = ...\n",
    "\n",
    "# Print the results\n",
    "print(\"Add:\", add)"
   ]
  },
  {
   "cell_type": "markdown",
   "metadata": {},
   "source": [
    "### Bonus"
   ]
  },
  {
   "cell_type": "code",
   "execution_count": null,
   "metadata": {},
   "outputs": [],
   "source": [
    "# Define the two numbers\n",
    "n1 = ...\n",
    "n2 = ...\n",
    "\n",
    "# Compute the subtraction\n",
    "sub = ...\n",
    "\n",
    "# Compute the multiplication\n",
    "mul = ...\n",
    "\n",
    "# Compute the division\n",
    "div = ...\n",
    "\n",
    "# Print the results\n",
    "print(\"Sub:\", sub)\n",
    "print(\"Mul:\", mul)\n",
    "print(\"Div:\", div)"
   ]
  },
  {
   "cell_type": "markdown",
   "metadata": {},
   "source": [
    "## Combine Two Strings"
   ]
  },
  {
   "cell_type": "code",
   "execution_count": null,
   "metadata": {},
   "outputs": [],
   "source": [
    "# Define the strings\n",
    "str1 = ...\n",
    "str2 = ...\n",
    "\n",
    "# Combine the strings together\n",
    "combined_str = ...\n",
    "\n",
    "# Print result\n",
    "print(\"Combined string:\", combined_str)"
   ]
  },
  {
   "cell_type": "markdown",
   "metadata": {},
   "source": [
    "### Bonus"
   ]
  },
  {
   "cell_type": "code",
   "execution_count": null,
   "metadata": {},
   "outputs": [],
   "source": [
    "# Define the strings\n",
    "str1 = ...\n",
    "str2 = ...\n",
    "\n",
    "# Combine the strings with a space in between\n",
    "combined_str = ...\n",
    "\n",
    "# Print result\n",
    "print(\"Combined string:\", combined_str)"
   ]
  },
  {
   "cell_type": "markdown",
   "metadata": {},
   "source": [
    "## Small Big Result\n"
   ]
  },
  {
   "cell_type": "code",
   "execution_count": null,
   "metadata": {},
   "outputs": [],
   "source": [
    "# Define the two numbers\n",
    "n1 = ...\n",
    "n2 = ...\n",
    "\n",
    "# Compute the addition\n",
    "result = ...\n",
    "\n",
    "# Check if addition within range\n",
    "..."
   ]
  },
  {
   "cell_type": "markdown",
   "metadata": {},
   "source": [
    "### Bonus"
   ]
  },
  {
   "cell_type": "code",
   "execution_count": null,
   "metadata": {},
   "outputs": [],
   "source": [
    "# Define the two numbers\n",
    "n1 = ...\n",
    "n2 = ...\n",
    "\n",
    "# Compute the addition\n",
    "result = ...\n",
    "\n",
    "# Check even or odd\n",
    "if result % 2 == 0:\n",
    "    comment = \"Even Number\"\n",
    "else:\n",
    "    comment = \"Odd Number\"\n",
    "\n",
    "# Print result\n",
    "print(\"Result:\", result)\n",
    "\n",
    "# Print comment\n",
    "print(\"Comment:\", comment)"
   ]
  },
  {
   "cell_type": "markdown",
   "metadata": {},
   "source": [
    "## Combine Multiple Strings"
   ]
  },
  {
   "cell_type": "code",
   "execution_count": null,
   "metadata": {},
   "outputs": [],
   "source": [
    "# Define list of strings\n",
    "strings = ...\n",
    "\n",
    "# Combine strings together\n",
    "combined_str = ...\n",
    "    \n",
    "# Print result\n",
    "print(combined_str)"
   ]
  },
  {
   "cell_type": "markdown",
   "metadata": {},
   "source": [
    "### Bonus"
   ]
  },
  {
   "cell_type": "code",
   "execution_count": null,
   "metadata": {},
   "outputs": [],
   "source": [
    "# Define list of strings\n",
    "strings = ...\n",
    "\n",
    "# Combine strings together into one string\n",
    "combined_str = ...\n",
    "    \n",
    "# ########################################## #\n",
    "# Split combined string into list of 4 chars #\n",
    "# ########################################## #\n",
    "\n",
    "# idx is the current index into the string\n",
    "\n",
    "# four_list will store the list of 4 chars\n",
    "\n",
    "# Iterate while idx is smaller than length\n",
    "# of combined_str\n",
    "while idx < len(combined_str):\n",
    "    # Get 4 chars\n",
    "    # Add it to four_list\n",
    "    # Increment our pointer\n",
    "    \n",
    "# Combine `four_list` into one string\n",
    "final_str = ...\n",
    "    \n",
    "# Print result\n",
    "print(final_str)"
   ]
  },
  {
   "cell_type": "code",
   "execution_count": null,
   "metadata": {},
   "outputs": [],
   "source": [
    "# Alternate solution with \n",
    "# tricks you can find online\n",
    "..."
   ]
  },
  {
   "cell_type": "markdown",
   "metadata": {},
   "source": [
    "## Random Number Manipulation"
   ]
  },
  {
   "cell_type": "code",
   "execution_count": null,
   "metadata": {},
   "outputs": [],
   "source": [
    "import random\n",
    "\n",
    "number_of_ints = 3 # Number of integers to generate\n",
    "\n",
    "result = ... # Defining a variable to store the results in\n",
    "\n",
    "# Find the result\n",
    "\n",
    "print(result)"
   ]
  },
  {
   "cell_type": "markdown",
   "metadata": {},
   "source": [
    "## Challenges"
   ]
  },
  {
   "cell_type": "markdown",
   "metadata": {},
   "source": [
    "### Christmas Tree Sample Code"
   ]
  },
  {
   "cell_type": "code",
   "execution_count": null,
   "metadata": {},
   "outputs": [],
   "source": [
    "n = 15\n",
    "\n",
    "lines = []\n",
    "for i in range(n):\n",
    "    lines.append(\"#\"*(1+2*i))\n",
    "    \n",
    "for i in range(n):\n",
    "    lines[i] = \" \"*(n-i) + lines[i]\n",
    "    \n",
    "lines.append(\" \"*n + \"N\")\n",
    "\n",
    "for i in lines:\n",
    "    print(i)"
   ]
  },
  {
   "cell_type": "markdown",
   "metadata": {},
   "source": [
    "### Possible Modifications"
   ]
  },
  {
   "cell_type": "code",
   "execution_count": null,
   "metadata": {},
   "outputs": [],
   "source": [
    "import random\n",
    "\n",
    "\n",
    "n = 10\n",
    "nbells = 50\n",
    "\n",
    "lines = [\"\"]*n\n",
    "# Make a thicker base of \"|\" characters\n",
    "# Add 2 \"+\" characters to the top of the tree\n",
    "\n",
    "# Bonus\n",
    "# Change '#' characters to '/\\' characters \n",
    "# Hint: Every row should have '/' characters on the left that is equal to the row number and vice versa\n",
    "\n",
    "# Add bells ('@' characters)\n",
    "# Hint: You can change characters in a string by referring to that index in the string\n",
    "\n",
    "for i in lines:\n",
    "    print(i)"
   ]
  },
  {
   "cell_type": "markdown",
   "metadata": {},
   "source": [
    "## Fibonacci Sample Code"
   ]
  },
  {
   "cell_type": "code",
   "execution_count": null,
   "metadata": {},
   "outputs": [],
   "source": [
    "# Number of terms to find\n",
    "n = 10\n",
    "\n",
    "# Fibonacci Function\n",
    "def fibonacci_fun(terms_num):\n",
    "    # List to store results in\n",
    "    fib_res = []\n",
    "    # Hint: How can you get the last two results from the list?\n",
    "    return fib_res\n",
    "\n",
    "print(fibonacci_fun(10))"
   ]
  },
  {
   "cell_type": "code",
   "execution_count": null,
   "metadata": {},
   "outputs": [],
   "source": [
    "# Finding first term larger than 100\n",
    "first_large_term = ...\n",
    "print(first_large_term)"
   ]
  },
  {
   "cell_type": "code",
   "execution_count": null,
   "metadata": {},
   "outputs": [],
   "source": [
    "# Finding sum of first 20 terms\n",
    "fib_sum = ...\n",
    "print(fib_sum)"
   ]
  },
  {
   "cell_type": "code",
   "execution_count": null,
   "metadata": {},
   "outputs": [],
   "source": [
    "# Finding largest factor for 25th term except for itself\n",
    "\n",
    "largest_factor = ... # variable to store largest factor\n",
    "fib_term_25 = ... # the 25th term\n",
    "\n",
    "# Hint: How do you know that a number is a factor of another number?\n",
    "print(largest_factor)"
   ]
  }
 ],
 "metadata": {
  "kernelspec": {
   "display_name": "Python 3 (ipykernel)",
   "language": "python",
   "name": "python3"
  },
  "language_info": {
   "codemirror_mode": {
    "name": "ipython",
    "version": 3
   },
   "file_extension": ".py",
   "mimetype": "text/x-python",
   "name": "python",
   "nbconvert_exporter": "python",
   "pygments_lexer": "ipython3",
   "version": "3.10.6"
  }
 },
 "nbformat": 4,
 "nbformat_minor": 4
}
