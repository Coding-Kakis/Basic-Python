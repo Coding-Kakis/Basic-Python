{
 "cells": [
  {
   "cell_type": "markdown",
   "id": "952b5c1e",
   "metadata": {},
   "source": [
    "## First Program"
   ]
  },
  {
   "cell_type": "code",
   "execution_count": 1,
   "id": "4ae79d75",
   "metadata": {},
   "outputs": [
    {
     "name": "stdout",
     "output_type": "stream",
     "text": [
      "Hello World\n"
     ]
    }
   ],
   "source": [
    "print(\"Hello World\")"
   ]
  },
  {
   "cell_type": "code",
   "execution_count": 2,
   "id": "acaf03d1",
   "metadata": {},
   "outputs": [],
   "source": [
    "# Anything written behind this sign is just treated as text and not code\n",
    "# print(\"Hello World\")\n",
    "# ^ running this will not have any ouptut!"
   ]
  },
  {
   "cell_type": "markdown",
   "id": "b61327ab",
   "metadata": {},
   "source": [
    "## Data Types"
   ]
  },
  {
   "cell_type": "code",
   "execution_count": 3,
   "id": "efe955ca",
   "metadata": {},
   "outputs": [
    {
     "name": "stdout",
     "output_type": "stream",
     "text": [
      "<class 'int'>\n"
     ]
    }
   ],
   "source": [
    "# integer\n",
    "print(type(1))"
   ]
  },
  {
   "cell_type": "code",
   "execution_count": 4,
   "id": "44b4868c",
   "metadata": {},
   "outputs": [
    {
     "name": "stdout",
     "output_type": "stream",
     "text": [
      "<class 'float'>\n"
     ]
    }
   ],
   "source": [
    "# float\n",
    "print(type(1.2))"
   ]
  },
  {
   "cell_type": "code",
   "execution_count": 5,
   "id": "e99902ae",
   "metadata": {},
   "outputs": [
    {
     "name": "stdout",
     "output_type": "stream",
     "text": [
      "<class 'str'>\n"
     ]
    }
   ],
   "source": [
    "# string\n",
    "print(type(\"This is a string\"))"
   ]
  },
  {
   "cell_type": "code",
   "execution_count": 6,
   "id": "6b0b15d7",
   "metadata": {},
   "outputs": [
    {
     "name": "stdout",
     "output_type": "stream",
     "text": [
      "<class 'bool'>\n"
     ]
    }
   ],
   "source": [
    "# boolean\n",
    "print(type(True))"
   ]
  },
  {
   "cell_type": "markdown",
   "id": "b1d23725",
   "metadata": {},
   "source": [
    "## Numbers"
   ]
  },
  {
   "cell_type": "code",
   "execution_count": 7,
   "id": "77919c70",
   "metadata": {},
   "outputs": [
    {
     "name": "stdout",
     "output_type": "stream",
     "text": [
      "11\n"
     ]
    }
   ],
   "source": [
    "print(8 + 3) # addition"
   ]
  },
  {
   "cell_type": "code",
   "execution_count": 8,
   "id": "866de2d1",
   "metadata": {},
   "outputs": [
    {
     "name": "stdout",
     "output_type": "stream",
     "text": [
      "5\n"
     ]
    }
   ],
   "source": [
    "print(8 - 3) # subtraction"
   ]
  },
  {
   "cell_type": "code",
   "execution_count": 9,
   "id": "2ce3a5aa",
   "metadata": {},
   "outputs": [
    {
     "name": "stdout",
     "output_type": "stream",
     "text": [
      "24\n"
     ]
    }
   ],
   "source": [
    "print(8 * 3) # multiplication"
   ]
  },
  {
   "cell_type": "code",
   "execution_count": 10,
   "id": "c212a0e7",
   "metadata": {},
   "outputs": [
    {
     "name": "stdout",
     "output_type": "stream",
     "text": [
      "2.6666666666666665\n"
     ]
    }
   ],
   "source": [
    "print(8 / 3) # division"
   ]
  },
  {
   "cell_type": "code",
   "execution_count": 11,
   "id": "61eaa099",
   "metadata": {},
   "outputs": [
    {
     "name": "stdout",
     "output_type": "stream",
     "text": [
      "2\n"
     ]
    }
   ],
   "source": [
    "print(8 % 3) # modulo"
   ]
  },
  {
   "cell_type": "markdown",
   "id": "51441508",
   "metadata": {},
   "source": [
    "### Floats vs Integers"
   ]
  },
  {
   "cell_type": "code",
   "execution_count": 12,
   "id": "b54cdec0",
   "metadata": {},
   "outputs": [
    {
     "name": "stdout",
     "output_type": "stream",
     "text": [
      "0.30000000000000004\n"
     ]
    }
   ],
   "source": [
    "print(3 * 0.1)"
   ]
  },
  {
   "cell_type": "code",
   "execution_count": 13,
   "id": "4f9f2d6a",
   "metadata": {},
   "outputs": [
    {
     "name": "stdout",
     "output_type": "stream",
     "text": [
      "0.3\n"
     ]
    }
   ],
   "source": [
    "print(0.3)"
   ]
  },
  {
   "cell_type": "markdown",
   "id": "7d77c208",
   "metadata": {},
   "source": [
    "## Variables"
   ]
  },
  {
   "cell_type": "code",
   "execution_count": 14,
   "id": "54d47354",
   "metadata": {},
   "outputs": [
    {
     "name": "stdout",
     "output_type": "stream",
     "text": [
      "Original value of a:  2\n",
      "New value of a:  5\n"
     ]
    }
   ],
   "source": [
    "# Defining a variable\n",
    "a = 2\n",
    "print(\"Original value of a: \", a)\n",
    "\n",
    "# Using a variable for its data value\n",
    "a = a + 3 # Updating its value\n",
    "print(\"New value of a: \", a)"
   ]
  },
  {
   "cell_type": "markdown",
   "id": "4af1e80a",
   "metadata": {},
   "source": [
    "## Strings"
   ]
  },
  {
   "cell_type": "code",
   "execution_count": 15,
   "id": "623554bb",
   "metadata": {},
   "outputs": [
    {
     "name": "stdout",
     "output_type": "stream",
     "text": [
      "This is a string\n",
      "This is also a string\n",
      "Escap'ing\n"
     ]
    }
   ],
   "source": [
    "# All these are valid strings!\n",
    "print('This is a string')\n",
    "print(\"This is also a string\")\n",
    "print(\"Escap\\'ing\")"
   ]
  },
  {
   "cell_type": "markdown",
   "id": "830987f4",
   "metadata": {},
   "source": [
    "## Lists"
   ]
  },
  {
   "cell_type": "code",
   "execution_count": 16,
   "id": "ef18ced9",
   "metadata": {},
   "outputs": [
    {
     "name": "stdout",
     "output_type": "stream",
     "text": [
      "1\n"
     ]
    }
   ],
   "source": [
    "# Defining a list\n",
    "a_list = [1, \"string\", 1.5, 1]\n",
    "\n",
    "# Accessing an element in the list\n",
    "print(a_list[0]) # this refers to the first element in the list!"
   ]
  },
  {
   "cell_type": "code",
   "execution_count": 17,
   "id": "89902dc3",
   "metadata": {},
   "outputs": [
    {
     "name": "stdout",
     "output_type": "stream",
     "text": [
      "List a is: ['Hello', 2, 3]\n",
      "List b is: ['Hello', 2, 3]\n"
     ]
    }
   ],
   "source": [
    "# Mutability\n",
    "list_a = [1,2,3]\n",
    "list_b = list_a\n",
    "list_b[0] = \"Hello\"\n",
    "\n",
    "# Both lists are the same\n",
    "print(\"List a is:\", list_a)\n",
    "print(\"List b is:\", list_b)"
   ]
  },
  {
   "cell_type": "code",
   "execution_count": 18,
   "id": "f9637399",
   "metadata": {},
   "outputs": [
    {
     "name": "stdout",
     "output_type": "stream",
     "text": [
      "List a is: [1, 2, 3]\n",
      "List b is: ['Hello', 2, 3]\n"
     ]
    }
   ],
   "source": [
    "# Mutability\n",
    "list_a = [1,2,3]\n",
    "list_b = list_a.copy()\n",
    "list_b[0] = \"Hello\"\n",
    "\n",
    "# Both lists are different\n",
    "print(\"List a is:\", list_a)\n",
    "print(\"List b is:\", list_b)"
   ]
  },
  {
   "cell_type": "markdown",
   "id": "31b1dd7d",
   "metadata": {},
   "source": [
    "## Functions"
   ]
  },
  {
   "cell_type": "code",
   "execution_count": 19,
   "id": "d1c21e8a",
   "metadata": {},
   "outputs": [
    {
     "name": "stdout",
     "output_type": "stream",
     "text": [
      "3\n",
      "a = 5\n"
     ]
    }
   ],
   "source": [
    "# Defining a function\n",
    "def add_num(num1, num2):\n",
    "    sum = num1 + num2\n",
    "    return sum\n",
    "\n",
    "# Calling a function\n",
    "print(add_num(1, 2))\n",
    "\n",
    "# Storing the return value into a variable\n",
    "a = add_num(2, 3)\n",
    "print(\"a =\", a)"
   ]
  },
  {
   "cell_type": "markdown",
   "id": "e5f1b4f8",
   "metadata": {},
   "source": [
    "## Conditionals"
   ]
  },
  {
   "cell_type": "code",
   "execution_count": 20,
   "id": "953b83aa",
   "metadata": {},
   "outputs": [
    {
     "name": "stdout",
     "output_type": "stream",
     "text": [
      "This should return True!: True\n",
      "This should return False!: False\n"
     ]
    }
   ],
   "source": [
    "# Examples of conditionals\n",
    "print(\"This should return True!:\", 1 == 1)\n",
    "print(\"This should return False!:\", 2 == 1)"
   ]
  },
  {
   "cell_type": "code",
   "execution_count": 22,
   "id": "b62818eb",
   "metadata": {},
   "outputs": [
    {
     "name": "stdout",
     "output_type": "stream",
     "text": [
      "Using and: True\n",
      "Using or: False\n",
      "Using not: False\n"
     ]
    }
   ],
   "source": [
    "# Combining booleans\n",
    "print(\"Using and:\", 3 < 10 and 10 < 50) # and, requires both to be true to return true\n",
    "\n",
    "print(\"Using or:\", 3 > 10 or 10 > 50) # or, requires at least one to be true to return true\n",
    "\n",
    "print(\"Using not:\", not True) # not, takes the reverse boolean value (True becomes False, False becomes True)"
   ]
  },
  {
   "cell_type": "markdown",
   "id": "36054611",
   "metadata": {},
   "source": [
    "## If ... Else"
   ]
  },
  {
   "cell_type": "code",
   "execution_count": 23,
   "id": "7006edfa",
   "metadata": {},
   "outputs": [
    {
     "name": "stdout",
     "output_type": "stream",
     "text": [
      "a is equal to b\n"
     ]
    }
   ],
   "source": [
    "a = 2\n",
    "b = 2\n",
    "if a == b:\n",
    "    print(\"a is equal to b\")\n",
    "else: \n",
    "    print(\"a isn’t equal to b\")"
   ]
  },
  {
   "cell_type": "code",
   "execution_count": null,
   "id": "a749520d",
   "metadata": {},
   "outputs": [],
   "source": []
  },
  {
   "cell_type": "code",
   "execution_count": null,
   "id": "3e9f91c6",
   "metadata": {},
   "outputs": [],
   "source": []
  }
 ],
 "metadata": {
  "kernelspec": {
   "display_name": "Python 3",
   "language": "python",
   "name": "python3"
  },
  "language_info": {
   "codemirror_mode": {
    "name": "ipython",
    "version": 3
   },
   "file_extension": ".py",
   "mimetype": "text/x-python",
   "name": "python",
   "nbconvert_exporter": "python",
   "pygments_lexer": "ipython3",
   "version": "3.9.0"
  }
 },
 "nbformat": 4,
 "nbformat_minor": 5
}
