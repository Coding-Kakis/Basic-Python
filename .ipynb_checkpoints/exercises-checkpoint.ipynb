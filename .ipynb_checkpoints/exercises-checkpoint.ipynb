{
 "cells": [
  {
   "cell_type": "markdown",
   "metadata": {},
   "source": [
    "## Summing 2 Numbers"
   ]
  },
  {
   "cell_type": "code",
   "execution_count": 1,
   "metadata": {},
   "outputs": [
    {
     "name": "stdout",
     "output_type": "stream",
     "text": [
      "Add: 30\n",
      "Sub: -10\n",
      "Mul: 200\n",
      "Div: 0.5\n"
     ]
    }
   ],
   "source": [
    "# Define the two numbers\n",
    "n1 = 10\n",
    "n2 = 20\n",
    "\n",
    "# Compute the addition\n",
    "add = n1+n2\n",
    "\n",
    "# Compute the subtraction\n",
    "sub = n1-n2\n",
    "\n",
    "# Compute the multiply\n",
    "mul = n1*n2\n",
    "\n",
    "# Compute the division\n",
    "div = n1/n2\n",
    "\n",
    "# Print the results\n",
    "print(\"Add:\", add)\n",
    "print(\"Sub:\", sub)\n",
    "print(\"Mul:\", mul)\n",
    "print(\"Div:\", div)"
   ]
  },
  {
   "cell_type": "markdown",
   "metadata": {},
   "source": [
    "## Combine Two Strings"
   ]
  },
  {
   "cell_type": "code",
   "execution_count": 2,
   "metadata": {},
   "outputs": [
    {
     "name": "stdout",
     "output_type": "stream",
     "text": [
      "Combined string: HelloWorld\n"
     ]
    }
   ],
   "source": [
    "# Define the strings\n",
    "str1 = \"Hello\"\n",
    "str2 = \"World\"\n",
    "\n",
    "# Combine the strings together\n",
    "combined_str = str1 + str2\n",
    "\n",
    "# Print result\n",
    "print(\"Combined string:\", combined_str)"
   ]
  },
  {
   "cell_type": "markdown",
   "metadata": {},
   "source": [
    "### Bonus"
   ]
  },
  {
   "cell_type": "code",
   "execution_count": 3,
   "metadata": {},
   "outputs": [
    {
     "name": "stdout",
     "output_type": "stream",
     "text": [
      "Combined string: Hello World\n"
     ]
    }
   ],
   "source": [
    "# Define the strings\n",
    "str1 = \"Hello\"\n",
    "str2 = \"World\"\n",
    "\n",
    "# Combine the strings with a space in between\n",
    "combined_str = str1 + \" \" + str2\n",
    "\n",
    "# Print result\n",
    "print(\"Combined string:\", combined_str)"
   ]
  },
  {
   "cell_type": "markdown",
   "metadata": {},
   "source": [
    "## Small Big Result\n"
   ]
  },
  {
   "cell_type": "code",
   "execution_count": 4,
   "metadata": {},
   "outputs": [
    {
     "name": "stdout",
     "output_type": "stream",
     "text": [
      "30\n"
     ]
    }
   ],
   "source": [
    "# Define the two numbers\n",
    "n1 = 10\n",
    "n2 = 20\n",
    "\n",
    "# Compute the addition\n",
    "add = n1+n2\n",
    "\n",
    "# Check if addition within range\n",
    "if add < 50 or add >= 100:\n",
    "    print(add)\n",
    "else:\n",
    "    print(\"Out of range\")"
   ]
  },
  {
   "cell_type": "markdown",
   "metadata": {},
   "source": [
    "### Bonus"
   ]
  },
  {
   "cell_type": "code",
   "execution_count": 5,
   "metadata": {},
   "outputs": [
    {
     "name": "stdout",
     "output_type": "stream",
     "text": [
      "Result: 30\n",
      "Comment: Even Number\n"
     ]
    }
   ],
   "source": [
    "# Define the two numbers\n",
    "n1 = 10\n",
    "n2 = 20\n",
    "\n",
    "# Compute the addition\n",
    "add = n1+n2\n",
    "\n",
    "# Compute comment\n",
    "if add % 2 == 0:\n",
    "    comment = \"Even Number\"\n",
    "else:\n",
    "    comment = \"Odd Number\"\n",
    "\n",
    "# Print result\n",
    "print(\"Result:\", add)\n",
    "\n",
    "# Print comment\n",
    "print(\"Comment:\", comment)"
   ]
  },
  {
   "cell_type": "markdown",
   "metadata": {},
   "source": [
    "## Combine Multiple Strings"
   ]
  },
  {
   "cell_type": "code",
   "execution_count": 6,
   "metadata": {},
   "outputs": [
    {
     "name": "stdout",
     "output_type": "stream",
     "text": [
      "HelloWorldPython\n"
     ]
    }
   ],
   "source": [
    "# Define list of strings\n",
    "strings = [\"Hello\", \"World\", \"Python\"]\n",
    "\n",
    "# Combine strings together\n",
    "combined_str = \"\"\n",
    "for s in strings:\n",
    "    combined_str += s\n",
    "    \n",
    "# Print result\n",
    "print(combined_str)"
   ]
  },
  {
   "cell_type": "markdown",
   "metadata": {},
   "source": [
    "### Bonus"
   ]
  },
  {
   "cell_type": "code",
   "execution_count": 7,
   "metadata": {},
   "outputs": [
    {
     "name": "stdout",
     "output_type": "stream",
     "text": [
      "Hell oWor ldPy thon \n"
     ]
    }
   ],
   "source": [
    "# Define list of strings\n",
    "strings = [\"Hello\", \"World\", \"Python\"]\n",
    "\n",
    "# Combine strings together into one string\n",
    "combined_str = \"\"\n",
    "for s in strings:\n",
    "    combined_str += s\n",
    "    \n",
    "# ########################################## #\n",
    "# Split combined string into list of 4 chars #\n",
    "# ########################################## #\n",
    "\n",
    "# idx is the current index into the string\n",
    "idx = 0\n",
    "# four_list will store the list of 4 chars\n",
    "four_list = []\n",
    "\n",
    "# Iterate while idx is smaller than length\n",
    "# of combined_str\n",
    "while idx < len(combined_str):\n",
    "    \n",
    "    # Get 4 chars\n",
    "    substr = combined_str[idx:idx+4]\n",
    "    # Add it to four_list\n",
    "    four_list.append(substr)\n",
    "    # Increment our pointer\n",
    "    idx += 4\n",
    "    \n",
    "# Combine `four_list` into one string\n",
    "final_str = \"\"\n",
    "for s in four_list:\n",
    "    final_str += s + \" \"\n",
    "    \n",
    "# Print result\n",
    "print(final_str)"
   ]
  },
  {
   "cell_type": "code",
   "execution_count": 8,
   "metadata": {},
   "outputs": [
    {
     "name": "stdout",
     "output_type": "stream",
     "text": [
      "Hell oWor ldPy thon \n"
     ]
    }
   ],
   "source": [
    "# Alternate solution with \n",
    "# tricks you can find online\n",
    "\n",
    "strings = [\"Hello\", \"World\", \"Python\"]\n",
    "s = \"\".join(strings)\n",
    "s = \" \".join(s[i*4:i*4+4] for i in range(len(s)//4+1))\n",
    "print(s)"
   ]
  },
  {
   "cell_type": "markdown",
   "metadata": {},
   "source": [
    "## Random Number Manipulation"
   ]
  },
  {
   "cell_type": "code",
   "execution_count": 27,
   "metadata": {},
   "outputs": [
    {
     "name": "stdout",
     "output_type": "stream",
     "text": [
      "14\n"
     ]
    }
   ],
   "source": [
    "import random\n",
    "\n",
    "number_of_ints = 3 # Number of integers to generate\n",
    "\n",
    "result = 0 # Defining a variable to store the results in\n",
    "\n",
    "for i in range(number_of_ints):\n",
    "    result += random.randint(1, 10)\n",
    "    \n",
    "print(result)"
   ]
  },
  {
   "cell_type": "markdown",
   "metadata": {},
   "source": [
    "## Challenges"
   ]
  },
  {
   "cell_type": "markdown",
   "metadata": {},
   "source": [
    "### Christmas Tree Sample Code"
   ]
  },
  {
   "cell_type": "code",
   "execution_count": 9,
   "metadata": {},
   "outputs": [
    {
     "name": "stdout",
     "output_type": "stream",
     "text": [
      "               #\n",
      "              ###\n",
      "             #####\n",
      "            #######\n",
      "           #########\n",
      "          ###########\n",
      "         #############\n",
      "        ###############\n",
      "       #################\n",
      "      ###################\n",
      "     #####################\n",
      "    #######################\n",
      "   #########################\n",
      "  ###########################\n",
      " #############################\n",
      "               N\n"
     ]
    }
   ],
   "source": [
    "n = 15\n",
    "\n",
    "lines = []\n",
    "for i in range(n):\n",
    "    lines.append(\"#\"*(1+2*i))\n",
    "    \n",
    "for i in range(n):\n",
    "    lines[i] = \" \"*(n-i) + lines[i]\n",
    "    \n",
    "lines.append(\" \"*n + \"N\")\n",
    "\n",
    "for i in lines:\n",
    "    print(i)"
   ]
  },
  {
   "cell_type": "markdown",
   "metadata": {},
   "source": [
    "### Possible Modifications"
   ]
  },
  {
   "cell_type": "code",
   "execution_count": 10,
   "metadata": {},
   "outputs": [
    {
     "name": "stdout",
     "output_type": "stream",
     "text": [
      "          ++\n",
      "          /\\\n",
      "         //@\\\n",
      "        /@/\\\\@\n",
      "       @@/@\\@@\\\n",
      "      @//@/\\\\\\@@\n",
      "     @@//@@\\\\@\\\\\\\n",
      "    ///@/@/\\\\@@@\\@\n",
      "   /@//@//@\\\\\\\\\\@@\\\n",
      "  @@@//@/@/\\@\\@\\@\\\\\\\n",
      " ///////@@@@@\\\\\\\\\\\\@\\\n",
      "          ||\n"
     ]
    }
   ],
   "source": [
    "import random\n",
    "\n",
    "n = 10\n",
    "nbells = 50\n",
    "\n",
    "lines = [\"\"]*n\n",
    "for i in range(n):\n",
    "    lines[i] += \"/\"*i\n",
    "    \n",
    "for i in range(n):\n",
    "    lines[i] += \"/\\\\\"\n",
    "    \n",
    "for i in range(n):\n",
    "    lines[i] += \"\\\\\"*i\n",
    "    \n",
    "for i in range(n):\n",
    "    lines[i] = \" \"*(n-i) + lines[i]\n",
    "    \n",
    "lines.append(\" \"*n + \"||\")\n",
    "\n",
    "for i in range(nbells):\n",
    "    idx  = random.randint(1,n-1)\n",
    "    idx2 = random.randint(0,2*idx+1) + (n-idx)\n",
    "    line = lines[idx]\n",
    "    line = list(line)\n",
    "    line[idx2] = \"@\"\n",
    "    lines[idx] = \"\".join(line)\n",
    "\n",
    "lines = [\" \"*n + \"++\"] + lines\n",
    "    \n",
    "for i in lines:\n",
    "    print(i)"
   ]
  },
  {
   "cell_type": "markdown",
   "metadata": {},
   "source": [
    "## Fibonacci Sample Code"
   ]
  },
  {
   "cell_type": "code",
   "execution_count": 16,
   "metadata": {},
   "outputs": [
    {
     "name": "stdout",
     "output_type": "stream",
     "text": [
      "[1, 1, 2, 3, 5, 8, 13, 21, 34, 55]\n"
     ]
    }
   ],
   "source": [
    "# Number of terms to find\n",
    "n = 10\n",
    "\n",
    "# Fibonacci Function\n",
    "def fibonacci_fun(terms_num):\n",
    "    # List to store results in\n",
    "    fib_res = []\n",
    "    for i in range(terms_num):\n",
    "        if i == 0 or i == 1:\n",
    "            fib_res.append(1)\n",
    "        else:\n",
    "            prev_val_a = fib_res[i - 1] # Get the last value\n",
    "            prev_val_b = fib_res[i - 2] # Get the 2nd last value\n",
    "            fib_res.append(prev_val_a + prev_val_b) # Add the new value to the list\n",
    "    return fib_res\n",
    "\n",
    "print(fibonacci_fun(10))"
   ]
  },
  {
   "cell_type": "code",
   "execution_count": 28,
   "metadata": {},
   "outputs": [
    {
     "name": "stdout",
     "output_type": "stream",
     "text": [
      "144\n"
     ]
    }
   ],
   "source": [
    "# Finding first term larger than 100\n",
    "\n",
    "for term in fibonacci_fun(13):\n",
    "    if term > 100:\n",
    "        print(term)\n",
    "        break"
   ]
  },
  {
   "cell_type": "code",
   "execution_count": 32,
   "metadata": {},
   "outputs": [
    {
     "name": "stdout",
     "output_type": "stream",
     "text": [
      "17710\n"
     ]
    }
   ],
   "source": [
    "# Finding sum of first 20 terms\n",
    "\n",
    "fib_sum = 0\n",
    "for term in fibonacci_fun(20):\n",
    "    fib_sum += term\n",
    "print(fib_sum)"
   ]
  },
  {
   "cell_type": "code",
   "execution_count": 39,
   "metadata": {},
   "outputs": [
    {
     "name": "stdout",
     "output_type": "stream",
     "text": [
      "15004\n"
     ]
    }
   ],
   "source": [
    "# Finding largest factor for 25th term except for itself\n",
    "\n",
    "largest_factor = 1 # variable to store largest factor\n",
    "fib_term_25 = fibonacci_fun(25)[24] # the 25th \n",
    "\n",
    "for number in range(fib_term_25):\n",
    "    if fib_term_25 % (number + 1) == 0 and fib_term_25 != (number + 1):\n",
    "        largest_factor = number\n",
    "print(largest_factor)"
   ]
  }
 ],
 "metadata": {
  "kernelspec": {
   "display_name": "Python 3",
   "language": "python",
   "name": "python3"
  },
  "language_info": {
   "codemirror_mode": {
    "name": "ipython",
    "version": 3
   },
   "file_extension": ".py",
   "mimetype": "text/x-python",
   "name": "python",
   "nbconvert_exporter": "python",
   "pygments_lexer": "ipython3",
   "version": "3.9.0"
  }
 },
 "nbformat": 4,
 "nbformat_minor": 4
}
